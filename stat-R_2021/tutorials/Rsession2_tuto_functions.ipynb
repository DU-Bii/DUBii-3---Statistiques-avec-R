{
 "cells": [
  {
   "cell_type": "markdown",
   "metadata": {},
   "source": [
    "\n",
    "# DU Bii - module 3: R and stats\n",
    "---\n",
    "## **Session 2: tutorial on writing your own functions**\n",
    "*Thursday 4th of March, 2021*\n",
    "\n",
    "teachers: Claire Vandiedonck & Magali Berland; helpers: Antoine Bridier-Nahmias, Yves Clément, Bruno Toupance, Jacques van Helden\n",
    "\n",
    "*Content of this tutorial:*\n",
    "\n",
    "1. Principle\n",
    "2. Rules\n",
    "3. Function results\n",
    "4. Some examples to better understand\n",
    "5. Writing your fisr R functions?\n"
   ]
  },
  {
   "cell_type": "markdown",
   "metadata": {},
   "source": [
    "---\n",
    "## **Before going further**\n",
    "\n",
    "<div class=\"alert alert-block alert-danger\"><b>Caution:</b><br> \n",
    "    <b>1. Create a new directory \"Rsession2\" </b> in your home with a right click in the left-hand panel of the lab.<br>\n",
    "    <b>2. Save a backup copy of this notebook in this folder </b>: in the left-hand panel, right-click on this file and select \"Duplicate\" and add your name, e.g: \"tutorial_functions_vandiedonck.ipynb\" and move it to the proper folder<br>\n",
    "You can also make backups during the analysis. Don't forget to save your notebook regularly.\n",
    "</div>"
   ]
  },
  {
   "cell_type": "markdown",
   "metadata": {},
   "source": [
    "Set your working directory and check it:"
   ]
  },
  {
   "cell_type": "code",
   "execution_count": null,
   "metadata": {},
   "outputs": [],
   "source": [
    "setwd('/shared/home/cvandiedonck/RSession2') #change with your login!!!\n",
    "getwd() #change is visible"
   ]
  },
  {
   "cell_type": "markdown",
   "metadata": {},
   "source": [
    "<div class=\"alert alert-block alert-warning\"><b>Warning:</b> you are strongly advised to run the cells in the indicated order. If you want to rerun cells above, you can just restart the kernel to start at 1 again. </div>"
   ]
  },
  {
   "cell_type": "markdown",
   "metadata": {},
   "source": [
    "<div class=\"alert alert-block alert-info\"> \n",
    "    \n",
    "<b><em> About jupyter notebooks:</em></b> <br>\n",
    "\n",
    "- To add a new cell, click on the \"+\" icon in the toolbar above your notebook <br>\n",
    "- You can \"click and drag\" to move a cell up or down <br>\n",
    "- You choose the type of cell in the toolbar above your notebook: <br>\n",
    "    - 'Code' to enter command lines to be executed <br>\n",
    "    - 'Markdown' cells to add text, that can be formatted with some characters <br>\n",
    "- To execute a 'Code' cell, press SHIFT+ENTER or click on the \"play\" icon  <br>\n",
    "- To display a 'Markdown' cell, press SHIFT+ENTER or click on the \"play\" icon  <br>\n",
    "- To modify a 'Markdown'cell, double-click on it <br>\n",
    "<br>    \n",
    "\n",
    "<em>  \n",
    "To make nice html reports with markdown: <a href=\"https://dillinger.io/\" title=\"dillinger.io\">html visualization tool 1</a> or <a href=\"https://stackedit.io/app#\" title=\"stackedit.io\">html visualization tool 2</a>, <a href=\"https://www.tablesgenerator.com/markdown_tables\" title=\"tablesgenerator.com\">to draw nice tables</a>, and the <a href=\"https://medium.com/analytics-vidhya/the-ultimate-markdown-guide-for-jupyter-notebook-d5e5abf728fd\" title=\"Ultimate guide\">Ultimate guide</a>. <br>\n",
    "Further reading on JupyterLab notebooks: <a href=\"https://jupyterlab.readthedocs.io/en/latest/user/notebook.html\" title=\"Jupyter Lab\">Jupyter Lab documentation</a>.<br>   \n",
    "</em>\n",
    "    \n",
    "    \n",
    "</div>   \n",
    "\n",
    "__*=> About this jupyter notebook*__\n",
    "\n",
    "This a jupyter notebook in **R**, meaning that the commands you will enter or run in `Code` cells are directly understood by the server in the R language.\n",
    "<br>You could run the same commands in a Terminal or in RStudio. \n",
    "\n",
    "\n",
    "> In this tutorial, you will run one cell at a time.\n",
    "\n",
    "<mark> Do not hesitate to try other commands by adding other cells.</mark>\n",
    "\n"
   ]
  },
  {
   "cell_type": "markdown",
   "metadata": {},
   "source": [
    "## I. Principle\n",
    "---\n"
   ]
  },
  {
   "cell_type": "markdown",
   "metadata": {},
   "source": [
    "### Why writing our own R functions?\n",
    "\n",
    "\n",
    "Writing your own R functions will allow efficient, flexible and rationale use of R if you want **to repeat an operation in different situations**."
   ]
  },
  {
   "cell_type": "markdown",
   "metadata": {},
   "source": [
    "### Properties\n",
    "\n",
    "Similar strcuture as native R functions except there is no help menu *(we could add one, but it requires another tutorial!)*.\n",
    "\n",
    "- name\n",
    "- arguments within brackets to execute the command\n",
    "- body of the function: commands executing actions on arguments\n",
    "- results"
   ]
  },
  {
   "cell_type": "raw",
   "metadata": {},
   "source": [
    "func1 <- function(x,x,z){\n",
    "    ...\n",
    "    commands executing actions on x, y and z\n",
    "    ...\n",
    "    return(results)\n",
    "}"
   ]
  },
  {
   "cell_type": "markdown",
   "metadata": {},
   "source": [
    "### Syntax uses two functions:\n",
    "\n",
    "1. `function()` followed by `{}`\n",
    "    - It is important to assign to the function a name not already used in R.\n",
    "    - You add arguments between `()` : give them a name and a default value with `=`\n",
    "    \n",
    "2. `return()` **inside** the `{}` of the function so that the output of the function can be saved outside the function space. If multiple results, they must be stored in a single output within a list."
   ]
  },
  {
   "cell_type": "markdown",
   "metadata": {},
   "source": [
    "## II. Rules\n",
    "---"
   ]
  },
  {
   "cell_type": "markdown",
   "metadata": {},
   "source": [
    "### 1. Do not use the name of a native function"
   ]
  },
  {
   "cell_type": "markdown",
   "metadata": {},
   "source": [
    "<div class=\"alert alert-block alert-danger\"><b>Caution:</b> \n",
    "The name of your own function must not be a native R function, otherwise the native function is overwritten during your session.\n",
    "</div>"
   ]
  },
  {
   "cell_type": "markdown",
   "metadata": {},
   "source": [
    "In the example below, we rename an existing function `mean()`. As coded, the returned result will be the squared value instead of the mean."
   ]
  },
  {
   "cell_type": "code",
   "execution_count": null,
   "metadata": {},
   "outputs": [],
   "source": [
    "mean <- function(x){\n",
    "    return(x^2)\n",
    "}\n",
    "\n",
    "mean(c(3,4))\n",
    "rm(mean)"
   ]
  },
  {
   "cell_type": "markdown",
   "metadata": {},
   "source": [
    "Let's check we got the correct mean() function back:"
   ]
  },
  {
   "cell_type": "code",
   "execution_count": null,
   "metadata": {},
   "outputs": [],
   "source": [
    "mean(c(3,4))"
   ]
  },
  {
   "cell_type": "markdown",
   "metadata": {},
   "source": [
    "### 2. The function space is closed"
   ]
  },
  {
   "cell_type": "markdown",
   "metadata": {},
   "source": [
    "**The argument names, all the variables created inside the functions and the results exist only within the enclosed function space!**\n",
    "\n",
    "- All the required objects must be arguments of the function or they must be defined in the body of the function\n",
    "- Risk to call an R object that is outside your function : by default, if the object is not defined in your function, R looks for it outside the function\n"
   ]
  },
  {
   "cell_type": "markdown",
   "metadata": {},
   "source": [
    "*See example below:*\n",
    "\n",
    "We first remove all objects in the environment"
   ]
  },
  {
   "cell_type": "code",
   "execution_count": null,
   "metadata": {},
   "outputs": [],
   "source": [
    "rm(list=ls())"
   ]
  },
  {
   "cell_type": "markdown",
   "metadata": {},
   "source": [
    "Let's define a function called `func()` to return the sum between a variable, passed as argument and `a`."
   ]
  },
  {
   "cell_type": "code",
   "execution_count": null,
   "metadata": {},
   "outputs": [],
   "source": [
    "func <- function(x){\n",
    "    x <- x + a\n",
    "    return(x^2)\n",
    "}"
   ]
  },
  {
   "cell_type": "markdown",
   "metadata": {},
   "source": [
    "Lest' try to apply it to the value 2:"
   ]
  },
  {
   "cell_type": "code",
   "execution_count": null,
   "metadata": {},
   "outputs": [],
   "source": [
    "func(2)"
   ]
  },
  {
   "cell_type": "markdown",
   "metadata": {},
   "source": [
    "This returns an error because the object `a` is not found.\n",
    "\n",
    "But what if `a` already exists in your R environment?"
   ]
  },
  {
   "cell_type": "code",
   "execution_count": null,
   "metadata": {},
   "outputs": [],
   "source": [
    "a <- 2\n",
    "func <- function(x){\n",
    "    x <- x + a\n",
    "    return(x^2)\n",
    "}\n",
    "func(2)"
   ]
  },
  {
   "cell_type": "markdown",
   "metadata": {},
   "source": [
    "This time it worked.\n",
    "You could also apply the function to a vector of length > 1:"
   ]
  },
  {
   "cell_type": "code",
   "execution_count": null,
   "metadata": {},
   "outputs": [],
   "source": [
    "func(c(2,3,10))"
   ]
  },
  {
   "cell_type": "markdown",
   "metadata": {},
   "source": [
    "But imagine now we add `a` as a parameter to a function `func2()` to perform an operation with `x` and `a`:"
   ]
  },
  {
   "cell_type": "code",
   "execution_count": null,
   "metadata": {},
   "outputs": [],
   "source": [
    "func2 <- function (x,a){\n",
    "    x <- x + a\n",
    "    return (x^2)\n",
    "}"
   ]
  },
  {
   "cell_type": "markdown",
   "metadata": {},
   "source": [
    "Don't forget that `a` equals to 2 in our R environement."
   ]
  },
  {
   "cell_type": "code",
   "execution_count": null,
   "metadata": {},
   "outputs": [],
   "source": [
    "a"
   ]
  },
  {
   "cell_type": "markdown",
   "metadata": {},
   "source": [
    "So if we apply the function `func2()`, will it use this `a`  value or the one you would pass as an argument to the function?\n",
    "Let's have a look."
   ]
  },
  {
   "cell_type": "code",
   "execution_count": null,
   "metadata": {},
   "outputs": [],
   "source": [
    "func2(2,3)"
   ]
  },
  {
   "cell_type": "markdown",
   "metadata": {},
   "source": [
    "So above, the function used 2 for x and 3 for a. It thus used the value `a` defined inside the `()` and not the a value assigned outside the function."
   ]
  },
  {
   "cell_type": "code",
   "execution_count": null,
   "metadata": {},
   "outputs": [],
   "source": [
    "func2(2,10)"
   ]
  },
  {
   "cell_type": "markdown",
   "metadata": {},
   "source": [
    "Similarly with the above two values 2 and 10, 10 was used for the second argument instead of `a`  assigned in the R environment.\n",
    "\n",
    "But what happens if we pass only one argument to the function `func2()`?"
   ]
  },
  {
   "cell_type": "code",
   "execution_count": null,
   "metadata": {},
   "outputs": [],
   "source": [
    "func2(2)"
   ]
  },
  {
   "cell_type": "markdown",
   "metadata": {},
   "source": [
    "It returns an error as the argument `a` is missing and we did not specify a default value for it when defining the function.\n",
    "The function func2 could not use the value `a=2` present in the workspace.\n",
    "\n",
    "=> the function space is closed: R uses the objects defined in your function."
   ]
  },
  {
   "cell_type": "markdown",
   "metadata": {},
   "source": [
    "**Several arguments can be passed to the function:**"
   ]
  },
  {
   "cell_type": "markdown",
   "metadata": {},
   "source": [
    "They can be of different types:\n",
    "- numeric\n",
    "- logical\n",
    "- factor\n",
    "- vector\n",
    "- matrix\n",
    "- dataframe\n",
    "- list\n",
    "- functions\n",
    "\n",
    "When `...` is specified, these are additional arguments passed from another function.\n",
    "\n",
    "Arguments are defined by their name or by their order."
   ]
  },
  {
   "cell_type": "code",
   "execution_count": null,
   "metadata": {},
   "outputs": [],
   "source": [
    "func3 <- function (x, a){\n",
    "    x <- x + 2 * a\n",
    "    return(x^2)\n",
    "}"
   ]
  },
  {
   "cell_type": "code",
   "execution_count": null,
   "metadata": {},
   "outputs": [],
   "source": [
    "func3(2,5)"
   ]
  },
  {
   "cell_type": "code",
   "execution_count": null,
   "metadata": {},
   "outputs": [],
   "source": [
    "func3(x = 2, a = 5)"
   ]
  },
  {
   "cell_type": "code",
   "execution_count": null,
   "metadata": {},
   "outputs": [],
   "source": [
    "func3(a = 5, x = 2)"
   ]
  },
  {
   "cell_type": "code",
   "execution_count": null,
   "metadata": {},
   "outputs": [],
   "source": [
    "func3(5,2)"
   ]
  },
  {
   "cell_type": "markdown",
   "metadata": {},
   "source": [
    "Thus above we see that when not specifying the name of the argument, the order set when defining the function is the one used. If we specify the names of the arguments, you may change the order, although this is not recommanded because your script wil lack clarity."
   ]
  },
  {
   "cell_type": "markdown",
   "metadata": {},
   "source": [
    "### 3. Do not hesitate to assign default values to the arguments"
   ]
  },
  {
   "cell_type": "code",
   "execution_count": null,
   "metadata": {},
   "outputs": [],
   "source": [
    "func4 <- function(x, a = 4){\n",
    "    x <- x + a\n",
    "    return(x^2)\n",
    "}"
   ]
  },
  {
   "cell_type": "code",
   "execution_count": null,
   "metadata": {},
   "outputs": [],
   "source": [
    "func4(2,5)"
   ]
  },
  {
   "cell_type": "code",
   "execution_count": null,
   "metadata": {},
   "outputs": [],
   "source": [
    "func4(2)"
   ]
  },
  {
   "cell_type": "markdown",
   "metadata": {},
   "source": [
    "In the above example, we passed to the function only one argument. But since we defined a default value to `a` when creating the function, this default value has been used."
   ]
  },
  {
   "cell_type": "markdown",
   "metadata": {},
   "source": [
    "## III. Function results\n",
    "---"
   ]
  },
  {
   "cell_type": "markdown",
   "metadata": {},
   "source": [
    "- A function can **only return one object.**\n",
    "\n",
    "- By default **the returned result is the last object** of the function body. "
   ]
  },
  {
   "cell_type": "code",
   "execution_count": null,
   "metadata": {},
   "outputs": [],
   "source": [
    "func <- function(x){\n",
    "    x + 10\n",
    "    x^2\n",
    "}\n",
    "func(2)"
   ]
  },
  {
   "cell_type": "markdown",
   "metadata": {},
   "source": [
    "Above it returned only the result of the `x^2` computation but not of `x + 10`."
   ]
  },
  {
   "cell_type": "markdown",
   "metadata": {},
   "source": [
    "- It is highly recommanded to **return the result with the function `return()`.**"
   ]
  },
  {
   "cell_type": "code",
   "execution_count": null,
   "metadata": {},
   "outputs": [],
   "source": [
    "func <- function(x){\n",
    "    temp <- x^2\n",
    "    return(temp)\n",
    "}\n",
    "func(2)"
   ]
  },
  {
   "cell_type": "markdown",
   "metadata": {},
   "source": [
    "- **If your function creates more than one result, use a `list` to store them and return the list** as in the example below."
   ]
  },
  {
   "cell_type": "code",
   "execution_count": null,
   "metadata": {},
   "outputs": [],
   "source": [
    "func <- function (x) {\n",
    "    temp1 <- x ^2\n",
    "    temp2 <- temp1^x\n",
    "    results <- list(res1=temp1, res2=temp2)\n",
    "    return(results)\n",
    "}\n",
    "func(2)\n"
   ]
  },
  {
   "cell_type": "markdown",
   "metadata": {},
   "source": [
    "## IV. Some examples to better understand\n",
    "---"
   ]
  },
  {
   "cell_type": "markdown",
   "metadata": {},
   "source": [
    "### 1. use return() and assign results"
   ]
  },
  {
   "cell_type": "markdown",
   "metadata": {},
   "source": [
    "Let's clean again our session from all objects and functions."
   ]
  },
  {
   "cell_type": "code",
   "execution_count": null,
   "metadata": {},
   "outputs": [],
   "source": [
    "rm(list=ls())\n",
    "ls()"
   ]
  },
  {
   "cell_type": "markdown",
   "metadata": {},
   "source": [
    "We first create a function f1 without using `return()`:"
   ]
  },
  {
   "cell_type": "code",
   "execution_count": null,
   "metadata": {},
   "outputs": [],
   "source": [
    "f1 <- function(a,b){\n",
    "    Op <- a + b\n",
    "}\n",
    "f1(a=6,b=20)\n",
    "ls()"
   ]
  },
  {
   "cell_type": "markdown",
   "metadata": {},
   "source": [
    "The function f1 ran but the result of the sum was stored in the object \"Op\" which was not printed nor returned. So, the result of the function is not shown. It is thus necessary to add the function return() inside the function to get the result."
   ]
  },
  {
   "cell_type": "code",
   "execution_count": null,
   "metadata": {},
   "outputs": [],
   "source": [
    "rm(list=ls())\n",
    "f1 <- function(a,b){\n",
    "    Op <- a + b\n",
    "    return(Op)\n",
    "}\n",
    "f1(a=6,b=20)\n",
    "ls()"
   ]
  },
  {
   "cell_type": "markdown",
   "metadata": {},
   "source": [
    "However, we do not get the object \"Op\" itself but the value that was assigned to it. If you want to get the result object in your R environment, you have to assign the result of the function."
   ]
  },
  {
   "cell_type": "code",
   "execution_count": null,
   "metadata": {},
   "outputs": [],
   "source": [
    "rm(list=ls())\n",
    "f1 <- function(a,b){\n",
    "    Op <- a + b\n",
    "    return(Op)\n",
    "}\n",
    "res1 <- f1(a=6,b=20)\n",
    "ls()\n",
    "res1"
   ]
  },
  {
   "cell_type": "markdown",
   "metadata": {},
   "source": [
    "Now, the object `res1` contains the result of the function!"
   ]
  },
  {
   "cell_type": "markdown",
   "metadata": {},
   "source": [
    "### 2. caution to the function space closed"
   ]
  },
  {
   "cell_type": "markdown",
   "metadata": {},
   "source": [
    "Let's play again with the same function, but we first assign to `a` a value outside of the function."
   ]
  },
  {
   "cell_type": "code",
   "execution_count": null,
   "metadata": {},
   "outputs": [],
   "source": [
    "rm(list=ls())\n",
    "a <- 27\n",
    "f1 <- function(a, b){\n",
    "      Op <- a + b\n",
    "      return(Op)\n",
    "}\n",
    "f1(a = 6, b = 20)\n",
    "ls()\n",
    "a"
   ]
  },
  {
   "cell_type": "markdown",
   "metadata": {},
   "source": [
    "What happened?\n",
    "- When calling `f1()`, the function used the value `a=6` passed as an argument to the function and not the value `a=27` assigned outside the function.\n",
    "- When printing `a` after using the function, the returned valued is the one assigned to `a` before the function. The one inside the function did not overwrite it."
   ]
  },
  {
   "cell_type": "markdown",
   "metadata": {},
   "source": [
    "Let's try again, this time with assigning a default value to `a` when creating the function."
   ]
  },
  {
   "cell_type": "code",
   "execution_count": null,
   "metadata": {},
   "outputs": [],
   "source": [
    "rm(list=ls())\n",
    "a <- 27\n",
    "f1 <- function(a=22, b){\n",
    "      Op <- a + b\n",
    "      return(Op)\n",
    "}\n",
    "f1(a, b = 20)\n",
    "f1(b=20)"
   ]
  },
  {
   "cell_type": "markdown",
   "metadata": {},
   "source": [
    "What happened?\n",
    "- When f1 was first called, it used the value `a=27` assigned within the R session and not the default one defined in the function.\n",
    "- While when f1 was called the second time, it used the default `a=22` value specified when creating the function."
   ]
  },
  {
   "cell_type": "markdown",
   "metadata": {},
   "source": [
    "This second result is probably less surprising than the first one.\n",
    "Why did f1 did not use `a=22` in the first instance? Because in that case, you asked f1 to use the `object a`, instead of the `argument a`...This is highly misleading!"
   ]
  },
  {
   "cell_type": "markdown",
   "metadata": {},
   "source": [
    "<div class=\"alert alert-block alert-danger\"><b>Caution:</b><br> \n",
    "It is thus highly recommended to <b> never use in your function space the name of a variable outside of the function</b>.\n",
    "</div>"
   ]
  },
  {
   "cell_type": "markdown",
   "metadata": {},
   "source": [
    "## V. Writing your first R functions?\n",
    "---"
   ]
  },
  {
   "cell_type": "markdown",
   "metadata": {},
   "source": [
    "The recipe to write your own function is:\n",
    "\n",
    "- give it a name\n",
    "- identify the arguments\n",
    "- write the body of the function\n",
    "- identify the results to return\n",
    "- test it!\n",
    "\n",
    "=> Write a function to compute the body mass index using the height and weight"
   ]
  },
  {
   "cell_type": "code",
   "execution_count": null,
   "metadata": {},
   "outputs": [],
   "source": []
  },
  {
   "cell_type": "markdown",
   "metadata": {},
   "source": [
    "=> Write a function to compute the variation coefficient"
   ]
  },
  {
   "cell_type": "code",
   "execution_count": null,
   "metadata": {},
   "outputs": [],
   "source": []
  },
  {
   "cell_type": "markdown",
   "metadata": {},
   "source": [
    "<div class=\"alert alert-block alert-success\"><b>Success:</b> Well done! You now know how to create a function and to avoid classical pitfalls. \n",
    "</div>\n",
    "    "
   ]
  },
  {
   "cell_type": "markdown",
   "metadata": {},
   "source": [
    "Of course, you can improve your functions by adding warnings if the input files are not as expected, or by adding some documentation (start with annotations!)."
   ]
  },
  {
   "cell_type": "markdown",
   "metadata": {},
   "source": [
    "<div class=\"alert alert-block alert-danger\"><b>Caution:</b><br> \n",
    " Don't forget to save you notebook and export a copy as an <b>html</b> file as well <br>\n",
    "- Open \"File\" in the Menu<br>\n",
    "- Select \"Export Notebook As\"<br>\n",
    "- Export notebook as HTML<br>\n",
    "- You can then open it in your browser even without being connected to the IFB Jupyter hub! \n",
    "</div>"
   ]
  },
  {
   "cell_type": "code",
   "execution_count": null,
   "metadata": {},
   "outputs": [],
   "source": [
    "sessionInfo()"
   ]
  }
 ],
 "metadata": {
  "kernelspec": {
   "display_name": "R 4.0.2",
   "language": "R",
   "name": "r-4.0.2"
  },
  "language_info": {
   "codemirror_mode": "r",
   "file_extension": ".r",
   "mimetype": "text/x-r-source",
   "name": "R",
   "pygments_lexer": "r",
   "version": "4.0.2"
  },
  "toc-showtags": true
 },
 "nbformat": 4,
 "nbformat_minor": 4
}

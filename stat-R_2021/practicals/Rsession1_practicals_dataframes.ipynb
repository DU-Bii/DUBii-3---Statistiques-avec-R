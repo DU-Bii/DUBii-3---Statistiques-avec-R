{
 "cells": [
  {
   "cell_type": "markdown",
   "metadata": {},
   "source": [
    "# R Session 1 - DU Bii 2021 - module 3 \"R and stats\"\n",
    "---\n",
    "---\n",
    "## **Practical on dataframes on the study case \"Mouse fibrotic kidney\"**\n",
    "*Wednesday 3rd of March, 2021*\n",
    "\n",
    "teachers: Claire Vandiedonck & Anne Badel; helpers: Antoine Bridier-Nahmias, Bruno Toupace, Clémence Réda, Jacques van Helden\n",
    "\n",
    "\n",
    "*Application proposed by Olivier Sand and Jacques van Helden; adapted by Anne Badel and Claire Vandiedonck*\n",
    "\n",
    "- **Reference :**\n",
    "    - Pavkovic, M., Pantano, L., Gerlach, C.V. et al. Multi omics analysis of fibrotic kidneys in two mouse models. Sci Data 6, 92 (2019). \n",
    "    - <https://doi.org/10.1038/s41597-019-0095-5> \n",
    "    - <https://www.nature.com/articles/s41597-019-0095-5#citeas>\n",
    "    - Mouse fibrotic kidney browser: <http://hbcreports.med.harvard.edu/fmm/>\n",
    "    - Data on Zenodo: <https://zenodo.org/record/2592516>\n",
    "\n",
    "\n",
    "- **Samples** from two mouse models were collected. The first one is a reversible chemical-induced injury model (folic acid (FA) induced nephropathy). The second one is an irreversible surgically-induced fibrosis model (unilateral ureteral obstruction (UUO)). mRNA and small RNA sequencing, as well as 10-plex tandem mass tag (TMT) proteomics were performed with kidney samples from different time points over the course of fibrosis development. For both studies, kidneys were removed at each time point for total RNA isolation and protein sample preparation.\n",
    "    - In the ***FA model***, mice were sacrificed before the treatment (day 0) and 1, 2, 7, and 14 days after a single injection of folic acid.   \n",
    "    - In the ***UUO model***, mice were sacrificed before obstruction (day 0) and 3, 7, and 14 days after the ureter of the left kidney was obstructed via ligation.    \n",
    "\n",
    "\n",
    ">**-> In this practical, we will explore the UUO transcriptome data:**\n",
    "> \"Raw\" expression data were obtained after pseudocounting with Salmon algorithm (cf modules 4/5). In the paper, they further processed the data.\n",
    ">\n",
    ">-  **Objectives**\n",
    ">\n",
    ">    - reading of a first real data set\n",
    ">    - manipulation of the dataset\n",
    ">    - information retrieval\n",
    ">    - graphic representations\n",
    ">    \n",
    ">\n",
    ">- **Data sources**\n",
    ">\n",
    ">| Doc | URL | \n",
    ">|:-----------------------------|:--------------------------|\n",
    ">| Total RNA for the experiment on Unilateral ureter obstruction (UUO) model | <https://www.ncbi.nlm.nih.gov/geo/query/acc.cgi?acc=GSE118339> |\n",
    ">| Supplementary material of the article with all the data tables (zip archive)  | <https://zenodo.org/record/2592516> |\n"
   ]
  },
  {
   "cell_type": "markdown",
   "metadata": {},
   "source": [
    "## 0. Avant toute chose\n",
    "---\n",
    "\n",
    "Faites une copie de ce notebook avec votre nom.\n",
    "\n",
    "Définissez votre répertertoire de travail dans votre `/shared/home/login/RSession1`.\n",
    "\n",
    "*__Tip :__*\n",
    "_fonction recommandée : `setwd()`_"
   ]
  },
  {
   "cell_type": "code",
   "execution_count": null,
   "metadata": {},
   "outputs": [],
   "source": [
    "# votre code"
   ]
  },
  {
   "cell_type": "markdown",
   "metadata": {},
   "source": [
    "## 1. The input data\n",
    "---"
   ]
  },
  {
   "cell_type": "markdown",
   "metadata": {},
   "source": [
    "Vous partirez des deux fichiers de données téléchargés suivants présents dans le repertoire `/shared/projects/dubii2021/trainers/module3/data/pavkovic/1.datainit`:\n",
    "\n",
    "- `pavkovic2019_transcriptome_uuo_raw.tsv`, contenant les données brutes, gènes en ligne avec leur identifiant ENSEMBLID, échantillons en colonnes\n",
    "- `pavkovic2019_transcriptome_uuo_metadata.tsv`, contenant les metadata, c'est-à dire le type de données, les conditions et les numéros d'échantillon.\n",
    "\n",
    "Ouvrez les d'abord dans l'édituer TSV du JupyterLab pour identifier s'ils contiennet des entêtes, des noms de lignes. Regardez également comment est remplie la colonne \"color' du fichier metadata.\n",
    "\n",
    "Ci-dessous, vous les importerez dans R et les reformaterez.\n"
   ]
  },
  {
   "cell_type": "code",
   "execution_count": null,
   "metadata": {},
   "outputs": [],
   "source": []
  },
  {
   "cell_type": "markdown",
   "metadata": {},
   "source": [
    "### A. Le data.frame `metadata`"
   ]
  },
  {
   "cell_type": "markdown",
   "metadata": {},
   "source": [
    "Importez-le dans R et affichez-le.\n",
    "\n",
    "*__Tip :__*\n",
    "_fonction recommandée : `read.table()` et les options `header`, `sep` et `comment.char` appropriées._"
   ]
  },
  {
   "cell_type": "code",
   "execution_count": null,
   "metadata": {},
   "outputs": [],
   "source": []
  },
  {
   "cell_type": "markdown",
   "metadata": {},
   "source": [
    "- Quelle est sa structure et ses dimensions du dataframe \"metadata\" ?\n",
    "\n",
    "*__Tip :__*\n",
    "_fonction recommandée : `str()` et `dim`._"
   ]
  },
  {
   "cell_type": "code",
   "execution_count": null,
   "metadata": {},
   "outputs": [],
   "source": []
  },
  {
   "cell_type": "markdown",
   "metadata": {},
   "source": [
    "- Affichez le dataframe"
   ]
  },
  {
   "cell_type": "code",
   "execution_count": null,
   "metadata": {},
   "outputs": [],
   "source": []
  },
  {
   "cell_type": "markdown",
   "metadata": {},
   "source": [
    "- remettre les lignes dans l'ordre (normal, day3, day7, day14)\n",
    "\n",
    "*__Tip :__*\n",
    "_fonction recommandée : `order()`_"
   ]
  },
  {
   "cell_type": "code",
   "execution_count": null,
   "metadata": {},
   "outputs": [],
   "source": []
  },
  {
   "cell_type": "markdown",
   "metadata": {},
   "source": [
    "### B. Le data.frame `rawData`"
   ]
  },
  {
   "cell_type": "markdown",
   "metadata": {},
   "source": [
    "Importez-le dans R.\n",
    "\n",
    "*__Tip :__*\n",
    "_fonction recommandée : `read.table()` et les options `header`, `sep` et `row.names` appropriées._"
   ]
  },
  {
   "cell_type": "code",
   "execution_count": null,
   "metadata": {},
   "outputs": [],
   "source": [
    "#votre code"
   ]
  },
  {
   "cell_type": "markdown",
   "metadata": {},
   "source": [
    "- Quelles sont la structure et les dimensions du data.frame \"rawData\" ?"
   ]
  },
  {
   "cell_type": "code",
   "execution_count": null,
   "metadata": {},
   "outputs": [],
   "source": []
  },
  {
   "cell_type": "markdown",
   "metadata": {},
   "source": [
    "- Affichez les 1ères lignes, les dernières lignes et 7 lignes au milieu pour vérifier que le formatage est similaire.\n",
    "\n",
    "*__Tip :__*\n",
    "_fonctions recommandées : `head()`, `tail` et `median`._"
   ]
  },
  {
   "cell_type": "code",
   "execution_count": null,
   "metadata": {},
   "outputs": [],
   "source": []
  },
  {
   "cell_type": "code",
   "execution_count": null,
   "metadata": {},
   "outputs": [],
   "source": []
  },
  {
   "cell_type": "code",
   "execution_count": null,
   "metadata": {},
   "outputs": [],
   "source": []
  },
  {
   "cell_type": "markdown",
   "metadata": {},
   "source": [
    "- testez si les échantillons sont dans le même ordre que dans le fichier metadata\n",
    "\n",
    "*__Tip :__*\n",
    "_fonctions recommandées : `names()`, `==`._"
   ]
  },
  {
   "cell_type": "code",
   "execution_count": null,
   "metadata": {},
   "outputs": [],
   "source": []
  },
  {
   "cell_type": "markdown",
   "metadata": {},
   "source": [
    "- remettez les échantillons dans le  même ordre que celui du fichier metadata et vérifiez que l'odre est bien le même\n"
   ]
  },
  {
   "cell_type": "code",
   "execution_count": null,
   "metadata": {},
   "outputs": [],
   "source": []
  },
  {
   "cell_type": "markdown",
   "metadata": {},
   "source": [
    "- listez tous les objets intermediaires créés et ne gardez que `metadata` et `rawData` avec le même ordre pour les échantillons\n",
    "\n",
    "*__Tip :__*\n",
    "_fonctions recommandées : `ls()`, `rm()`._"
   ]
  },
  {
   "cell_type": "code",
   "execution_count": null,
   "metadata": {},
   "outputs": [],
   "source": []
  },
  {
   "cell_type": "code",
   "execution_count": null,
   "metadata": {},
   "outputs": [],
   "source": []
  },
  {
   "cell_type": "markdown",
   "metadata": {},
   "source": [
    "## 2. Quelques manipulations de base des dataframes\n",
    "---"
   ]
  },
  {
   "cell_type": "markdown",
   "metadata": {},
   "source": [
    "- Extraire du jeu de données \"rawData\" l'information de la $101^{ème}$ ligne"
   ]
  },
  {
   "cell_type": "code",
   "execution_count": null,
   "metadata": {},
   "outputs": [],
   "source": []
  },
  {
   "cell_type": "markdown",
   "metadata": {},
   "source": [
    "- Identifiez le nom du gène de la $50^{ème}$ ligne"
   ]
  },
  {
   "cell_type": "code",
   "execution_count": null,
   "metadata": {},
   "outputs": [],
   "source": []
  },
  {
   "cell_type": "markdown",
   "metadata": {},
   "source": [
    "- Extraire du jeu de données \"rawData\" l'information pour le gène **ENSMUSG00000001855**"
   ]
  },
  {
   "cell_type": "code",
   "execution_count": null,
   "metadata": {},
   "outputs": [],
   "source": []
  },
  {
   "cell_type": "markdown",
   "metadata": {},
   "source": [
    "- Extraire pour le jeu gène **ENSMUSG00000003810** l'information concernant le jour 7, **day7_8**"
   ]
  },
  {
   "cell_type": "code",
   "execution_count": null,
   "metadata": {},
   "outputs": [],
   "source": []
  },
  {
   "cell_type": "markdown",
   "metadata": {},
   "source": [
    "- Extraire du jeu de données \"rawData\" l'information pour les $10^{ème}$ et $9^{ème}$ colonnes pour les lignes 30 à 35, 6 et 15:"
   ]
  },
  {
   "cell_type": "code",
   "execution_count": null,
   "metadata": {},
   "outputs": [],
   "source": []
  },
  {
   "cell_type": "markdown",
   "metadata": {},
   "source": [
    "- Créez un sous-datframe en extrayant du jeu de données \"rawData\" l'information pour les colonnes concernant les expériences des jours **day3**. Effectuez une première fois l'opération sans utiliser le dataframe metadata avec la fonction `subset()`. Recommencez en utilisant le dataframe metadata et la fonction `which()`. Comparez les deux sous-dataframes obtenus pour vérifier que vous avez réussi.\n",
    "\n",
    "*__Tip :__*\n",
    "_fonctions recommandées : `subset()` avec l'argument `select`, `grep()`, `which()`, `identical()`._"
   ]
  },
  {
   "cell_type": "code",
   "execution_count": null,
   "metadata": {},
   "outputs": [],
   "source": []
  },
  {
   "cell_type": "markdown",
   "metadata": {},
   "source": [
    "Supprimez ensuite les sous-dataframes intermédiaires."
   ]
  },
  {
   "cell_type": "code",
   "execution_count": null,
   "metadata": {},
   "outputs": [],
   "source": []
  },
  {
   "cell_type": "code",
   "execution_count": null,
   "metadata": {},
   "outputs": [],
   "source": []
  },
  {
   "cell_type": "code",
   "execution_count": null,
   "metadata": {},
   "outputs": [],
   "source": []
  },
  {
   "cell_type": "markdown",
   "metadata": {},
   "source": [
    "## 3. Generation de statistiques descriptives sur les données brutes d'expression\n",
    "---"
   ]
  },
  {
   "cell_type": "markdown",
   "metadata": {},
   "source": [
    "### A. Pour chaque échantillon"
   ]
  },
  {
   "cell_type": "markdown",
   "metadata": {},
   "source": [
    "- Donnez un résumé des données à l'aide de la commande `summary()`"
   ]
  },
  {
   "cell_type": "code",
   "execution_count": null,
   "metadata": {},
   "outputs": [],
   "source": []
  },
  {
   "cell_type": "markdown",
   "metadata": {},
   "source": [
    "- Décrire à présent les 15 échantillons avec l'étendue (min et max), les valeurs de tendance (moyenne, mediane), de dispersion (écart-type, distance inter-quartile, coefficient de variation = sd/mean), et quelques valeurs caractéristiques de percentiles (5%, 15%, 75% et 95%) des niveaux d'expression.\n",
    "- Vous stockerez ces résultats dans un nouveau dataframe que vous appellerez `sample_raw_stats` qui inclura les colonnes de metadata en 1ères colonnes, puis mean, sd, cv, IQR, min, p05, Q1, median, Q3, p95 et max.\n",
    "\n",
    "\n",
    "*__fonction recommandées :__*\n",
    "\n",
    "`data.frame()`, `as.data.frame()`, `matrix()`, `cbind()`\n",
    "\n",
    "`min()`, `max()`ou `range()`\n",
    "\n",
    "`mean()`, `sd()`, `median()` : ajoutez na.rm=T pour ne pas inclure les données manquantes\n",
    "\n",
    "`quantile()` avec l'option `prob=`\n",
    "\n",
    "`apply()` pour appliquer une fonction sur les vecteurs d’un dataframe en ligne ou en colonne\n"
   ]
  },
  {
   "cell_type": "code",
   "execution_count": null,
   "metadata": {},
   "outputs": [],
   "source": []
  },
  {
   "cell_type": "code",
   "execution_count": null,
   "metadata": {},
   "outputs": [],
   "source": []
  },
  {
   "cell_type": "code",
   "execution_count": null,
   "metadata": {},
   "outputs": [],
   "source": []
  },
  {
   "cell_type": "markdown",
   "metadata": {},
   "source": [
    "### B. Pour chaque gène"
   ]
  },
  {
   "cell_type": "markdown",
   "metadata": {},
   "source": [
    "- Vérifiez qu'il n'y a bien qu'une seule occurence de chaque gène dans le tableau rawData\n",
    "\n",
    "*__fonction recommandées :__*\n",
    "\n",
    "`length()`, `unique()`, `==`"
   ]
  },
  {
   "cell_type": "code",
   "execution_count": null,
   "metadata": {},
   "outputs": [],
   "source": []
  },
  {
   "cell_type": "markdown",
   "metadata": {},
   "source": [
    "Pour chaque gène:\n",
    "\n",
    "- Calculer la moyenne, la médiane, l’écart type, le coefficient de variation (sd/mean) des niveaux d'expression.\n",
    "- Calculer également la moyenne, l’écart type et le coefficient de variation (sd/mean) du nombre de reads par gène pour chaque condition.\n",
    "- Vous stockerez ces résultats dans un nouveau dataframe que vous appellerez `gene_raw_stats` avec un gène par ligne.\n",
    "\n",
    "*__fonction recommandées :__*\n",
    "\n",
    "`data.frame()`, `as.data.frame()`, `matrix()`, `cbind()`\n",
    "\n",
    "`min()`, `max()`ou `range()`\n",
    "\n",
    "`mean()`, `sd()`, `median()` : ajoutez na.rm=T pour ne pas inclure les données manquantes\n",
    "\n",
    "`quantile()` avec l'option `prob=`\n",
    "\n",
    "`apply()` pour appliquer une fonction sur les vecteurs d’un dataframe en ligne ou en colonne\n",
    "\n",
    "`colSums()`, `colMeans()`, `rowSums()` ou `rowMeans()`"
   ]
  },
  {
   "cell_type": "code",
   "execution_count": null,
   "metadata": {},
   "outputs": [],
   "source": []
  },
  {
   "cell_type": "code",
   "execution_count": null,
   "metadata": {},
   "outputs": [],
   "source": []
  },
  {
   "cell_type": "code",
   "execution_count": null,
   "metadata": {},
   "outputs": [],
   "source": []
  },
  {
   "cell_type": "markdown",
   "metadata": {},
   "source": [
    "## 4. Quelques questions sur les données d'expression\n",
    "---"
   ]
  },
  {
   "cell_type": "markdown",
   "metadata": {},
   "source": [
    "### A. Sur les gènes:\n",
    "\n",
    "-\tCombien de gènes ne sont pas exprimés du tout dans aucun échantillon ?\n",
    "\n",
    "*__Tip :__* vous pouvez regarder la  moyenne est égale à 0 dans ce cas! Ou alors vous faites la somme et comptez les sommes égales à 0."
   ]
  },
  {
   "cell_type": "code",
   "execution_count": null,
   "metadata": {},
   "outputs": [],
   "source": []
  },
  {
   "cell_type": "markdown",
   "metadata": {},
   "source": [
    "- Quel est le gène le plus fortement exprimé en moyenne sur l'ensemble des échantillons? Affichez les valeurs d'expression du dataframe rawData pour ce gène.\n",
    "\n",
    "*__Tip :__* vous pouvez utiliser le dataframe de de stats sur les gènes et la fonction `which.max()`"
   ]
  },
  {
   "cell_type": "code",
   "execution_count": null,
   "metadata": {},
   "outputs": [],
   "source": []
  },
  {
   "cell_type": "markdown",
   "metadata": {},
   "source": [
    "- Représentez graphiquement l'expression de gène en fonction du jour à l'aide de la fonction `plot()`\n",
    "\n",
    "*__Tip :__* les cooronnées sur l'axe des X correspondant au jour (0,3, 7 ou 14), donc générez ces positions avec `rep()`."
   ]
  },
  {
   "cell_type": "code",
   "execution_count": null,
   "metadata": {},
   "outputs": [],
   "source": []
  },
  {
   "cell_type": "markdown",
   "metadata": {},
   "source": [
    "- Ajouter la moyenne de chaque condition pour ce gène sous forme d'une ligne ***(optionnel)***\n",
    "\n",
    "*__Tip :__* après avoir généré le plot(), utilisez la fonction `lines()` dans la même cellule du notebook."
   ]
  },
  {
   "cell_type": "code",
   "execution_count": null,
   "metadata": {},
   "outputs": [],
   "source": []
  },
  {
   "cell_type": "markdown",
   "metadata": {},
   "source": [
    "- Ajouter l'écart-type pour chaque condition sous forme d'un segment de droite ***(optionnel)***\n",
    "\n",
    "*__Tip :__* après avoir généré le plot(), utilisez la fonction `segments()` dans la même cellule du notebook."
   ]
  },
  {
   "cell_type": "code",
   "execution_count": null,
   "metadata": {},
   "outputs": [],
   "source": []
  },
  {
   "cell_type": "markdown",
   "metadata": {},
   "source": [
    "- Pour chaque condition, extrayez le gène le plus exprimé en moyenne à partir du dataframe \"gene_raw_stats\" ***(optionnel)***\n",
    "\n",
    "Est-ce toujours le même?"
   ]
  },
  {
   "cell_type": "code",
   "execution_count": null,
   "metadata": {},
   "outputs": [],
   "source": []
  },
  {
   "cell_type": "markdown",
   "metadata": {},
   "source": [
    "-\tQuel est le gène dont l’expression varie le plus parmi tous les échantillons en terme d’écart type? Est-ce le même que le plus fortement exprimé ?"
   ]
  },
  {
   "cell_type": "code",
   "execution_count": null,
   "metadata": {},
   "outputs": [],
   "source": []
  },
  {
   "cell_type": "markdown",
   "metadata": {},
   "source": [
    "- Représentation graphique des 10 gènes ayant les plus grandes valeurs de CV ***(optionnel)***:\n",
    "\n",
    "\n",
    "    - extraire les 10 gènes en question\n",
    "    \n",
    "  *__Tip :__* triez les données pour sélectionner les 10 plus fortes"
   ]
  },
  {
   "cell_type": "code",
   "execution_count": null,
   "metadata": {},
   "outputs": [],
   "source": []
  },
  {
   "cell_type": "markdown",
   "metadata": {},
   "source": [
    "\n",
    "    - extraire les 10 gènes en questionreprésentation graphique (expression en fonction du jour du traitement)"
   ]
  },
  {
   "cell_type": "code",
   "execution_count": null,
   "metadata": {},
   "outputs": [],
   "source": []
  },
  {
   "cell_type": "markdown",
   "metadata": {},
   "source": [
    "       - quelle est la caractéristique de ces gènes ayant un CV très élevé ?"
   ]
  },
  {
   "cell_type": "code",
   "execution_count": null,
   "metadata": {},
   "outputs": [],
   "source": []
  },
  {
   "cell_type": "markdown",
   "metadata": {},
   "source": [
    "Dans la suite de l'analyse, nous retirerons ces gènes exprimés dans peu d'échantillons."
   ]
  },
  {
   "cell_type": "markdown",
   "metadata": {},
   "source": [
    "### B. Sur les échantillons\n",
    "\n",
    "-\tQuel échantillon a le coefficient de variation moyen le plus élevé ? Proposez une représentation graphique.\n",
    "\n",
    "\n",
    "*__Tip :__* utilisez le dataframe sample_raw_stats"
   ]
  },
  {
   "cell_type": "code",
   "execution_count": null,
   "metadata": {},
   "outputs": [],
   "source": []
  },
  {
   "cell_type": "code",
   "execution_count": null,
   "metadata": {},
   "outputs": [],
   "source": []
  },
  {
   "cell_type": "markdown",
   "metadata": {},
   "source": [
    "-\tQuelle est le nombre total de pseudocounts par échantillon/librairie? Donnez un résumé et faites une représentation graphique (boxplot et histogramme de ces totaux)\n",
    "\n",
    "*__Tip :__* utilisez la fonction `colSums()`"
   ]
  },
  {
   "cell_type": "code",
   "execution_count": null,
   "metadata": {},
   "outputs": [],
   "source": []
  },
  {
   "cell_type": "markdown",
   "metadata": {},
   "source": [
    "=> On voit donc que les librarires sont de taille variable. On ne peut donc pas comparer les échantillons entre eux directement."
   ]
  },
  {
   "cell_type": "markdown",
   "metadata": {},
   "source": [
    "## 5. Transformation des data pour les analyses ultérieures\n",
    "---\n",
    "\n",
    "Dans cette partie les commandes vous sont données. Réfléchissez aux interprétations."
   ]
  },
  {
   "cell_type": "markdown",
   "metadata": {},
   "source": [
    "### A. transformation en variable discrète\n",
    "\n",
    "Beaucoup d'outils d'analyse de RNASeq ont besoin de variables entières (données de comptage). Arrondissez toutes les valeurs à l'entier le plus proche avec la fonction `round()`. Sauvergardez ce dataframe sous le nom `rawCount`."
   ]
  },
  {
   "cell_type": "code",
   "execution_count": null,
   "metadata": {},
   "outputs": [],
   "source": [
    "rawCount <- round(rawData)\n",
    "head(rawCount)"
   ]
  },
  {
   "cell_type": "markdown",
   "metadata": {},
   "source": [
    "### B. Distributions des comptes\n",
    "\n",
    "AVant de transformer les données, il est nécessaire de regarder leur distribution globale et entre échantillons.\n",
    "\n",
    "Affichez sous forme d'un seul histogramme (fonction `hist()`) l'ensemble des valeurs (fonction `unlist()`). Pensez à mettre un titre (option `main = `), un nom à l'axe des abcisses (option `xlab = `) et à l'axe des ordonnées (option `ylab = `)."
   ]
  },
  {
   "cell_type": "markdown",
   "metadata": {},
   "source": [
    "#### 1. distribution of raw values"
   ]
  },
  {
   "cell_type": "code",
   "execution_count": null,
   "metadata": {},
   "outputs": [],
   "source": [
    "hist(unlist(rawData), \n",
    "     breaks = 1000, \n",
    "     main = \"Raw value distribution\", \n",
    "     xlab = \"Raw values\", \n",
    "     ylab = \"Number of features (all samples)\")"
   ]
  },
  {
   "cell_type": "markdown",
   "metadata": {},
   "source": [
    "#### 2. distribution of raw counts"
   ]
  },
  {
   "cell_type": "code",
   "execution_count": null,
   "metadata": {},
   "outputs": [],
   "source": [
    "hist(unlist(rawCount), \n",
    "     breaks = 1000, \n",
    "     main = \"Raw value distribution\", \n",
    "     xlab = \"Raw values\", \n",
    "     ylab = \"Number of features (all samples)\")"
   ]
  },
  {
   "cell_type": "markdown",
   "metadata": {},
   "source": [
    "The distribution of raw counts is not very informative, because the range is defined by some outlier, i.e. a feature having a huge values respective to the rest of the distribution. \n",
    "\n",
    "This problem is particularly sensitive for RNA-seq data: even with a strong zoom on the abcsissa range from 0 to 500, the histogram shows a steep drop in the first bins. "
   ]
  },
  {
   "cell_type": "markdown",
   "metadata": {},
   "source": [
    "#### 3.  distribution of raw counts - right-side trimming\n",
    "\n",
    "In order to see the relevant part of the data it is convenient to truncate the histogram to the 95th percentile."
   ]
  },
  {
   "cell_type": "code",
   "execution_count": null,
   "metadata": {},
   "outputs": [],
   "source": [
    "p95 <- quantile(x = unlist(rawCount), probs = 0.95)\n",
    "\n",
    "## Select the values below this percentile\n",
    "allData <- unlist(rawCount)\n",
    "# length(allValues)\n",
    "p95Data <- allData[allData <= p95]\n",
    "# length(p95Values)\n",
    "\n",
    "## Plot the histogram\n",
    "hist(p95Data, breaks = 100, \n",
    "     main = \"Distribution of raw values\\nbelow the 95th percentile\", \n",
    "     xlab = \"Raw values (below percentile 95)\", \n",
    "     ylab = \"Number of features (all samples)\")"
   ]
  },
  {
   "cell_type": "markdown",
   "metadata": {},
   "source": [
    "#### 4. distribution of raw counts - two-sides trimming\n",
    "\n",
    "For visualization, it is sometimes convenient to truncate both tails of the distribution, in order to avoid both the outliers (right tail) and the sometimes large number of zero values. This is particularly useful for single-cell RNA-seq data, which can have a \"zero-inflated\" distribution, but it is also useful for other data types. \n"
   ]
  },
  {
   "cell_type": "code",
   "execution_count": null,
   "metadata": {},
   "outputs": [],
   "source": [
    "p05 <- quantile(x = unlist(rawCount), probs = 0.05)\n",
    "p95 <- quantile(x = unlist(rawCount), probs = 0.95)\n",
    "\n",
    "## Select the values below this percentile\n",
    "allData <- unlist(rawCount)\n",
    "# length(allValues)\n",
    "trimmedData <- allData[(allData >= p05) & (allData <= p95)]\n",
    "# length(trimmedValues)\n",
    "\n",
    "## Plot the histogram\n",
    "hist(trimmedData, breaks = 100, \n",
    "     main = \"Distribution of trimmed raw values\\nfrom p05 to p95\", \n",
    "     xlab = \"Raw values (between p05 and p95)\", \n",
    "     ylab = \"Number of features (all samples)\")"
   ]
  },
  {
   "cell_type": "markdown",
   "metadata": {},
   "source": [
    "#### 5. log2-transformed values of raw counts\n",
    "\n",
    "A typical normalising approach is apply a log2 transformation .\n",
    "\n",
    "For RNA-seq data, this might however create a problem when the counts of a given gene in a given sample is 0. To circumvent this, we can add an epsilon parameter (epsilon = 0.1) before the log2 transformation (function `log2()`).\n",
    "\n",
    "- Log2-transformation"
   ]
  },
  {
   "cell_type": "code",
   "execution_count": null,
   "metadata": {},
   "outputs": [],
   "source": [
    "epsilon = 0.1\n",
    "log2Values <- log2(rawData + epsilon)"
   ]
  },
  {
   "cell_type": "markdown",
   "metadata": {},
   "source": [
    "- histogram"
   ]
  },
  {
   "cell_type": "code",
   "execution_count": null,
   "metadata": {},
   "outputs": [],
   "source": [
    "x <- unlist(log2Values)\n",
    "minx <- floor(min(x))\n",
    "maxx <- ceiling(max(x))\n",
    "hist(x, \n",
    "     breaks = seq(from = minx, to = maxx, by = 0.1),\n",
    "     main = \"log2(values) distribution\",\n",
    "     xlab = \"log2(raw + epsilon)\", \n",
    "     ylab = \"Number of features\", col = \"#BBFFBB\")"
   ]
  },
  {
   "cell_type": "markdown",
   "metadata": {},
   "source": [
    "-  box plots\n",
    "\n",
    "We can now inspect the distribution of counts per sample with the `boxplot()` function.\n",
    "\n",
    "    - boxplot of the raw counts"
   ]
  },
  {
   "cell_type": "code",
   "execution_count": null,
   "metadata": {},
   "outputs": [],
   "source": [
    "boxplot(rawCount, las = 2)"
   ]
  },
  {
   "cell_type": "markdown",
   "metadata": {},
   "source": [
    "    - boxplot of the log2-transformed values of raw counts"
   ]
  },
  {
   "cell_type": "code",
   "execution_count": null,
   "metadata": {},
   "outputs": [],
   "source": [
    "boxplot(log2Values, las = 2)"
   ]
  },
  {
   "cell_type": "markdown",
   "metadata": {},
   "source": [
    "### C. feature filtering\n",
    "\n",
    "We filter out the features having very low values across all the samples, which we consider as undetected. \n",
    "\n",
    "- search for undetected features"
   ]
  },
  {
   "cell_type": "code",
   "execution_count": null,
   "metadata": {},
   "outputs": [],
   "source": [
    "undetectedLimit = 10\n",
    "undetectedFeatures <- apply(rawData, MARGIN = 1, FUN = sum)\n",
    "undetectedFeatures <- apply(rawData, MARGIN = 1, FUN = sum) < undetectedLimit\n",
    "length(undetectedFeatures)\n",
    "sum(undetectedFeatures)"
   ]
  },
  {
   "cell_type": "markdown",
   "metadata": {},
   "source": [
    "- storage in `log2Filtered` data.frame"
   ]
  },
  {
   "cell_type": "code",
   "execution_count": null,
   "metadata": {},
   "outputs": [],
   "source": [
    "log2Filtered <- log2Values[!undetectedFeatures, ]"
   ]
  },
  {
   "cell_type": "markdown",
   "metadata": {},
   "source": [
    "- dimensions de `log2Filtered`"
   ]
  },
  {
   "cell_type": "code",
   "execution_count": null,
   "metadata": {},
   "outputs": [],
   "source": [
    "dim(log2Filtered)"
   ]
  },
  {
   "cell_type": "markdown",
   "metadata": {},
   "source": [
    "- boxplot before and after filtering\n",
    "\n",
    "Remember to share your graphical window using the command `(par(mfrow=c(1,2))` and then return to the original parameters using the command `(par(mfrow=c(1,1))`."
   ]
  },
  {
   "cell_type": "code",
   "execution_count": null,
   "metadata": {},
   "outputs": [],
   "source": [
    "par(mfrow = c(1,2))\n",
    "boxplot(log2Values, \n",
    "        col = metadata$color,\n",
    "        horizontal = TRUE, \n",
    "        las = 1, \n",
    "        main = \"log2-transformed\", \n",
    "        xlab = \"log2(value)\")\n",
    "boxplot(log2Filtered, \n",
    "        col = metadata$color,\n",
    "        horizontal = TRUE, \n",
    "        las = 1,\n",
    "        main = \"Filtered features\", \n",
    "        xlab = \"log2(value)\")\n",
    "par(mfrow = c(1,1))"
   ]
  },
  {
   "cell_type": "markdown",
   "metadata": {},
   "source": [
    "We use the remaining genes for the subsequent analyses. "
   ]
  },
  {
   "cell_type": "markdown",
   "metadata": {},
   "source": [
    "## 6. Représentation graphique des 10 gènes ayant les plus grandes valeurs de CV ***(optionnel)***\n",
    "\n",
    "Que se passe t'il après ces opérations de filtrage ?\n",
    "\n",
    "- calcul des CV"
   ]
  },
  {
   "cell_type": "code",
   "execution_count": null,
   "metadata": {},
   "outputs": [],
   "source": [
    "gene_mean <- apply(log2Filtered, 1, mean)\n",
    "gene_sd <- apply(log2Filtered, 1, sd)\n",
    "gene_cv <- gene_sd / gene_mean"
   ]
  },
  {
   "cell_type": "markdown",
   "metadata": {},
   "source": [
    "- extraction des 10 plus grands CV"
   ]
  },
  {
   "cell_type": "code",
   "execution_count": null,
   "metadata": {},
   "outputs": [],
   "source": [
    "gene_cv_order <- order(gene_cv, decreasing = TRUE)\n",
    "gene_cv_order[1:10]"
   ]
  },
  {
   "cell_type": "markdown",
   "metadata": {},
   "source": [
    "- représentation graphique"
   ]
  },
  {
   "cell_type": "code",
   "execution_count": null,
   "metadata": {},
   "outputs": [],
   "source": [
    "plot(4, 6, xlim = c(-1, 15), ylim = c(0, max(log2Filtered[gene_cv_order[1:10], ])), type = \"n\", xlab = \"day\", ylab = \"expr\", axes = FALSE)\n",
    "axis(side = 1, at = c(0, 3, 7, 14))\n",
    "axis(2)\n",
    "delta = 0.15\n",
    "for (i in 1:10)\n",
    "  points(rep(c(0, 3, 7, 14), c(3, 4, 4, 4)) + ((i-5) * delta), log2Filtered[gene_cv_order[i], ], col = i, pch = i)"
   ]
  },
  {
   "cell_type": "markdown",
   "metadata": {},
   "source": [
    "Qu'en pensez-vous?"
   ]
  },
  {
   "cell_type": "markdown",
   "metadata": {},
   "source": [
    "## Pensez à sauvegardez vos données\n",
    "à l'aide de la fonction `save()` ou de la fonction `write.table()`"
   ]
  },
  {
   "cell_type": "markdown",
   "metadata": {},
   "source": [
    "---\n",
    "---"
   ]
  },
  {
   "cell_type": "code",
   "execution_count": null,
   "metadata": {},
   "outputs": [],
   "source": [
    "sessionInfo()"
   ]
  }
 ],
 "metadata": {
  "kernelspec": {
   "display_name": "R 4.0.2",
   "language": "R",
   "name": "r-4.0.2"
  },
  "language_info": {
   "codemirror_mode": "r",
   "file_extension": ".r",
   "mimetype": "text/x-r-source",
   "name": "R",
   "pygments_lexer": "r",
   "version": "4.0.2"
  }
 },
 "nbformat": 4,
 "nbformat_minor": 4
}

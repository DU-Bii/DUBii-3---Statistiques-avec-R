{
 "cells": [
  {
   "cell_type": "code",
   "execution_count": null,
   "metadata": {},
   "outputs": [],
   "source": [
    "library(tidyverse)"
   ]
  },
  {
   "cell_type": "markdown",
   "metadata": {},
   "source": [
    "## Deuxième partie : Manipulation des données avec dplyr"
   ]
  },
  {
   "cell_type": "markdown",
   "metadata": {},
   "source": [
    "1. Avec la fonction `filter()`, trouvez les 8 mamifères qui dorment plus de 16 heures par jour"
   ]
  },
  {
   "cell_type": "code",
   "execution_count": 31,
   "metadata": {},
   "outputs": [
    {
     "data": {
      "text/html": [
       "<table>\n",
       "<caption>A tibble: 8 × 11</caption>\n",
       "<thead>\n",
       "\t<tr><th scope=col>name</th><th scope=col>genus</th><th scope=col>vore</th><th scope=col>order</th><th scope=col>conservation</th><th scope=col>sleep_total</th><th scope=col>sleep_rem</th><th scope=col>sleep_cycle</th><th scope=col>awake</th><th scope=col>brainwt</th><th scope=col>bodywt</th></tr>\n",
       "\t<tr><th scope=col>&lt;chr&gt;</th><th scope=col>&lt;chr&gt;</th><th scope=col>&lt;chr&gt;</th><th scope=col>&lt;chr&gt;</th><th scope=col>&lt;chr&gt;</th><th scope=col>&lt;dbl&gt;</th><th scope=col>&lt;dbl&gt;</th><th scope=col>&lt;dbl&gt;</th><th scope=col>&lt;dbl&gt;</th><th scope=col>&lt;dbl&gt;</th><th scope=col>&lt;dbl&gt;</th></tr>\n",
       "</thead>\n",
       "<tbody>\n",
       "\t<tr><td>Owl monkey            </td><td>Aotus       </td><td>omni   </td><td>Primates       </td><td>NA</td><td>17.0</td><td>1.8</td><td>       NA</td><td>7.0</td><td>0.01550</td><td> 0.480</td></tr>\n",
       "\t<tr><td>Long-nosed armadillo  </td><td>Dasypus     </td><td>carni  </td><td>Cingulata      </td><td>lc</td><td>17.4</td><td>3.1</td><td>0.3833333</td><td>6.6</td><td>0.01080</td><td> 3.500</td></tr>\n",
       "\t<tr><td>North American Opossum</td><td>Didelphis   </td><td>omni   </td><td>Didelphimorphia</td><td>lc</td><td>18.0</td><td>4.9</td><td>0.3333333</td><td>6.0</td><td>0.00630</td><td> 1.700</td></tr>\n",
       "\t<tr><td>Big brown bat         </td><td>Eptesicus   </td><td>insecti</td><td>Chiroptera     </td><td>lc</td><td>19.7</td><td>3.9</td><td>0.1166667</td><td>4.3</td><td>0.00030</td><td> 0.023</td></tr>\n",
       "\t<tr><td>Thick-tailed opposum  </td><td>Lutreolina  </td><td>carni  </td><td>Didelphimorphia</td><td>lc</td><td>19.4</td><td>6.6</td><td>       NA</td><td>4.6</td><td>     NA</td><td> 0.370</td></tr>\n",
       "\t<tr><td>Little brown bat      </td><td>Myotis      </td><td>insecti</td><td>Chiroptera     </td><td>NA</td><td>19.9</td><td>2.0</td><td>0.2000000</td><td>4.1</td><td>0.00025</td><td> 0.010</td></tr>\n",
       "\t<tr><td>Giant armadillo       </td><td>Priodontes  </td><td>insecti</td><td>Cingulata      </td><td>en</td><td>18.1</td><td>6.1</td><td>       NA</td><td>5.9</td><td>0.08100</td><td>60.000</td></tr>\n",
       "\t<tr><td>Arctic ground squirrel</td><td>Spermophilus</td><td>herbi  </td><td>Rodentia       </td><td>lc</td><td>16.6</td><td> NA</td><td>       NA</td><td>7.4</td><td>0.00570</td><td> 0.920</td></tr>\n",
       "</tbody>\n",
       "</table>\n"
      ],
      "text/latex": [
       "A tibble: 8 × 11\n",
       "\\begin{tabular}{lllllllllll}\n",
       " name & genus & vore & order & conservation & sleep\\_total & sleep\\_rem & sleep\\_cycle & awake & brainwt & bodywt\\\\\n",
       " <chr> & <chr> & <chr> & <chr> & <chr> & <dbl> & <dbl> & <dbl> & <dbl> & <dbl> & <dbl>\\\\\n",
       "\\hline\n",
       "\t Owl monkey             & Aotus        & omni    & Primates        & NA & 17.0 & 1.8 &        NA & 7.0 & 0.01550 &  0.480\\\\\n",
       "\t Long-nosed armadillo   & Dasypus      & carni   & Cingulata       & lc & 17.4 & 3.1 & 0.3833333 & 6.6 & 0.01080 &  3.500\\\\\n",
       "\t North American Opossum & Didelphis    & omni    & Didelphimorphia & lc & 18.0 & 4.9 & 0.3333333 & 6.0 & 0.00630 &  1.700\\\\\n",
       "\t Big brown bat          & Eptesicus    & insecti & Chiroptera      & lc & 19.7 & 3.9 & 0.1166667 & 4.3 & 0.00030 &  0.023\\\\\n",
       "\t Thick-tailed opposum   & Lutreolina   & carni   & Didelphimorphia & lc & 19.4 & 6.6 &        NA & 4.6 &      NA &  0.370\\\\\n",
       "\t Little brown bat       & Myotis       & insecti & Chiroptera      & NA & 19.9 & 2.0 & 0.2000000 & 4.1 & 0.00025 &  0.010\\\\\n",
       "\t Giant armadillo        & Priodontes   & insecti & Cingulata       & en & 18.1 & 6.1 &        NA & 5.9 & 0.08100 & 60.000\\\\\n",
       "\t Arctic ground squirrel & Spermophilus & herbi   & Rodentia        & lc & 16.6 &  NA &        NA & 7.4 & 0.00570 &  0.920\\\\\n",
       "\\end{tabular}\n"
      ],
      "text/markdown": [
       "\n",
       "A tibble: 8 × 11\n",
       "\n",
       "| name &lt;chr&gt; | genus &lt;chr&gt; | vore &lt;chr&gt; | order &lt;chr&gt; | conservation &lt;chr&gt; | sleep_total &lt;dbl&gt; | sleep_rem &lt;dbl&gt; | sleep_cycle &lt;dbl&gt; | awake &lt;dbl&gt; | brainwt &lt;dbl&gt; | bodywt &lt;dbl&gt; |\n",
       "|---|---|---|---|---|---|---|---|---|---|---|\n",
       "| Owl monkey             | Aotus        | omni    | Primates        | NA | 17.0 | 1.8 |        NA | 7.0 | 0.01550 |  0.480 |\n",
       "| Long-nosed armadillo   | Dasypus      | carni   | Cingulata       | lc | 17.4 | 3.1 | 0.3833333 | 6.6 | 0.01080 |  3.500 |\n",
       "| North American Opossum | Didelphis    | omni    | Didelphimorphia | lc | 18.0 | 4.9 | 0.3333333 | 6.0 | 0.00630 |  1.700 |\n",
       "| Big brown bat          | Eptesicus    | insecti | Chiroptera      | lc | 19.7 | 3.9 | 0.1166667 | 4.3 | 0.00030 |  0.023 |\n",
       "| Thick-tailed opposum   | Lutreolina   | carni   | Didelphimorphia | lc | 19.4 | 6.6 |        NA | 4.6 |      NA |  0.370 |\n",
       "| Little brown bat       | Myotis       | insecti | Chiroptera      | NA | 19.9 | 2.0 | 0.2000000 | 4.1 | 0.00025 |  0.010 |\n",
       "| Giant armadillo        | Priodontes   | insecti | Cingulata       | en | 18.1 | 6.1 |        NA | 5.9 | 0.08100 | 60.000 |\n",
       "| Arctic ground squirrel | Spermophilus | herbi   | Rodentia        | lc | 16.6 |  NA |        NA | 7.4 | 0.00570 |  0.920 |\n",
       "\n"
      ],
      "text/plain": [
       "  name                   genus        vore    order           conservation\n",
       "1 Owl monkey             Aotus        omni    Primates        NA          \n",
       "2 Long-nosed armadillo   Dasypus      carni   Cingulata       lc          \n",
       "3 North American Opossum Didelphis    omni    Didelphimorphia lc          \n",
       "4 Big brown bat          Eptesicus    insecti Chiroptera      lc          \n",
       "5 Thick-tailed opposum   Lutreolina   carni   Didelphimorphia lc          \n",
       "6 Little brown bat       Myotis       insecti Chiroptera      NA          \n",
       "7 Giant armadillo        Priodontes   insecti Cingulata       en          \n",
       "8 Arctic ground squirrel Spermophilus herbi   Rodentia        lc          \n",
       "  sleep_total sleep_rem sleep_cycle awake brainwt bodywt\n",
       "1 17.0        1.8              NA   7.0   0.01550  0.480\n",
       "2 17.4        3.1       0.3833333   6.6   0.01080  3.500\n",
       "3 18.0        4.9       0.3333333   6.0   0.00630  1.700\n",
       "4 19.7        3.9       0.1166667   4.3   0.00030  0.023\n",
       "5 19.4        6.6              NA   4.6        NA  0.370\n",
       "6 19.9        2.0       0.2000000   4.1   0.00025  0.010\n",
       "7 18.1        6.1              NA   5.9   0.08100 60.000\n",
       "8 16.6         NA              NA   7.4   0.00570  0.920"
      ]
     },
     "metadata": {},
     "output_type": "display_data"
    }
   ],
   "source": [
    "filter(msleep, sleep_total > 16)"
   ]
  },
  {
   "cell_type": "markdown",
   "metadata": {},
   "source": [
    "2. Avec la fonction `arrange()`, triez les données par ordre taxonomique (`order`) puis par temps de sommeil croissant (`sleep_total`)"
   ]
  },
  {
   "cell_type": "code",
   "execution_count": 34,
   "metadata": {},
   "outputs": [
    {
     "data": {
      "text/html": [
       "<table>\n",
       "<caption>A tibble: 6 × 11</caption>\n",
       "<thead>\n",
       "\t<tr><th scope=col>name</th><th scope=col>genus</th><th scope=col>vore</th><th scope=col>order</th><th scope=col>conservation</th><th scope=col>sleep_total</th><th scope=col>sleep_rem</th><th scope=col>sleep_cycle</th><th scope=col>awake</th><th scope=col>brainwt</th><th scope=col>bodywt</th></tr>\n",
       "\t<tr><th scope=col>&lt;chr&gt;</th><th scope=col>&lt;chr&gt;</th><th scope=col>&lt;chr&gt;</th><th scope=col>&lt;chr&gt;</th><th scope=col>&lt;chr&gt;</th><th scope=col>&lt;dbl&gt;</th><th scope=col>&lt;dbl&gt;</th><th scope=col>&lt;dbl&gt;</th><th scope=col>&lt;dbl&gt;</th><th scope=col>&lt;dbl&gt;</th><th scope=col>&lt;dbl&gt;</th></tr>\n",
       "</thead>\n",
       "<tbody>\n",
       "\t<tr><td>Tenrec  </td><td>Tenrec   </td><td>omni </td><td>Afrosoricida</td><td>NA          </td><td>15.6</td><td>2.3</td><td>       NA</td><td> 8.4</td><td>0.0026</td><td>  0.900</td></tr>\n",
       "\t<tr><td>Giraffe </td><td>Giraffa  </td><td>herbi</td><td>Artiodactyla</td><td>cd          </td><td> 1.9</td><td>0.4</td><td>       NA</td><td>22.1</td><td>    NA</td><td>899.995</td></tr>\n",
       "\t<tr><td>Roe deer</td><td>Capreolus</td><td>herbi</td><td>Artiodactyla</td><td>lc          </td><td> 3.0</td><td> NA</td><td>       NA</td><td>21.0</td><td>0.0982</td><td> 14.800</td></tr>\n",
       "\t<tr><td>Sheep   </td><td>Ovis     </td><td>herbi</td><td>Artiodactyla</td><td>domesticated</td><td> 3.8</td><td>0.6</td><td>       NA</td><td>20.2</td><td>0.1750</td><td> 55.500</td></tr>\n",
       "\t<tr><td>Cow     </td><td>Bos      </td><td>herbi</td><td>Artiodactyla</td><td>domesticated</td><td> 4.0</td><td>0.7</td><td>0.6666667</td><td>20.0</td><td>0.4230</td><td>600.000</td></tr>\n",
       "\t<tr><td>Goat    </td><td>Capri    </td><td>herbi</td><td>Artiodactyla</td><td>lc          </td><td> 5.3</td><td>0.6</td><td>       NA</td><td>18.7</td><td>0.1150</td><td> 33.500</td></tr>\n",
       "</tbody>\n",
       "</table>\n"
      ],
      "text/latex": [
       "A tibble: 6 × 11\n",
       "\\begin{tabular}{lllllllllll}\n",
       " name & genus & vore & order & conservation & sleep\\_total & sleep\\_rem & sleep\\_cycle & awake & brainwt & bodywt\\\\\n",
       " <chr> & <chr> & <chr> & <chr> & <chr> & <dbl> & <dbl> & <dbl> & <dbl> & <dbl> & <dbl>\\\\\n",
       "\\hline\n",
       "\t Tenrec   & Tenrec    & omni  & Afrosoricida & NA           & 15.6 & 2.3 &        NA &  8.4 & 0.0026 &   0.900\\\\\n",
       "\t Giraffe  & Giraffa   & herbi & Artiodactyla & cd           &  1.9 & 0.4 &        NA & 22.1 &     NA & 899.995\\\\\n",
       "\t Roe deer & Capreolus & herbi & Artiodactyla & lc           &  3.0 &  NA &        NA & 21.0 & 0.0982 &  14.800\\\\\n",
       "\t Sheep    & Ovis      & herbi & Artiodactyla & domesticated &  3.8 & 0.6 &        NA & 20.2 & 0.1750 &  55.500\\\\\n",
       "\t Cow      & Bos       & herbi & Artiodactyla & domesticated &  4.0 & 0.7 & 0.6666667 & 20.0 & 0.4230 & 600.000\\\\\n",
       "\t Goat     & Capri     & herbi & Artiodactyla & lc           &  5.3 & 0.6 &        NA & 18.7 & 0.1150 &  33.500\\\\\n",
       "\\end{tabular}\n"
      ],
      "text/markdown": [
       "\n",
       "A tibble: 6 × 11\n",
       "\n",
       "| name &lt;chr&gt; | genus &lt;chr&gt; | vore &lt;chr&gt; | order &lt;chr&gt; | conservation &lt;chr&gt; | sleep_total &lt;dbl&gt; | sleep_rem &lt;dbl&gt; | sleep_cycle &lt;dbl&gt; | awake &lt;dbl&gt; | brainwt &lt;dbl&gt; | bodywt &lt;dbl&gt; |\n",
       "|---|---|---|---|---|---|---|---|---|---|---|\n",
       "| Tenrec   | Tenrec    | omni  | Afrosoricida | NA           | 15.6 | 2.3 |        NA |  8.4 | 0.0026 |   0.900 |\n",
       "| Giraffe  | Giraffa   | herbi | Artiodactyla | cd           |  1.9 | 0.4 |        NA | 22.1 |     NA | 899.995 |\n",
       "| Roe deer | Capreolus | herbi | Artiodactyla | lc           |  3.0 |  NA |        NA | 21.0 | 0.0982 |  14.800 |\n",
       "| Sheep    | Ovis      | herbi | Artiodactyla | domesticated |  3.8 | 0.6 |        NA | 20.2 | 0.1750 |  55.500 |\n",
       "| Cow      | Bos       | herbi | Artiodactyla | domesticated |  4.0 | 0.7 | 0.6666667 | 20.0 | 0.4230 | 600.000 |\n",
       "| Goat     | Capri     | herbi | Artiodactyla | lc           |  5.3 | 0.6 |        NA | 18.7 | 0.1150 |  33.500 |\n",
       "\n"
      ],
      "text/plain": [
       "  name     genus     vore  order        conservation sleep_total sleep_rem\n",
       "1 Tenrec   Tenrec    omni  Afrosoricida NA           15.6        2.3      \n",
       "2 Giraffe  Giraffa   herbi Artiodactyla cd            1.9        0.4      \n",
       "3 Roe deer Capreolus herbi Artiodactyla lc            3.0         NA      \n",
       "4 Sheep    Ovis      herbi Artiodactyla domesticated  3.8        0.6      \n",
       "5 Cow      Bos       herbi Artiodactyla domesticated  4.0        0.7      \n",
       "6 Goat     Capri     herbi Artiodactyla lc            5.3        0.6      \n",
       "  sleep_cycle awake brainwt bodywt \n",
       "1        NA    8.4  0.0026    0.900\n",
       "2        NA   22.1      NA  899.995\n",
       "3        NA   21.0  0.0982   14.800\n",
       "4        NA   20.2  0.1750   55.500\n",
       "5 0.6666667   20.0  0.4230  600.000\n",
       "6        NA   18.7  0.1150   33.500"
      ]
     },
     "metadata": {},
     "output_type": "display_data"
    }
   ],
   "source": [
    "arrange(msleep, order, sleep_total) %>%\n",
    "    head()"
   ]
  },
  {
   "cell_type": "markdown",
   "metadata": {},
   "source": [
    "3. Avec la fonction `select()`, sélectionnez les colonnes qui commencent par \"sleep\""
   ]
  },
  {
   "cell_type": "code",
   "execution_count": 36,
   "metadata": {},
   "outputs": [
    {
     "data": {
      "text/html": [
       "<table>\n",
       "<caption>A tibble: 6 × 3</caption>\n",
       "<thead>\n",
       "\t<tr><th scope=col>sleep_total</th><th scope=col>sleep_rem</th><th scope=col>sleep_cycle</th></tr>\n",
       "\t<tr><th scope=col>&lt;dbl&gt;</th><th scope=col>&lt;dbl&gt;</th><th scope=col>&lt;dbl&gt;</th></tr>\n",
       "</thead>\n",
       "<tbody>\n",
       "\t<tr><td>12.1</td><td> NA</td><td>       NA</td></tr>\n",
       "\t<tr><td>17.0</td><td>1.8</td><td>       NA</td></tr>\n",
       "\t<tr><td>14.4</td><td>2.4</td><td>       NA</td></tr>\n",
       "\t<tr><td>14.9</td><td>2.3</td><td>0.1333333</td></tr>\n",
       "\t<tr><td> 4.0</td><td>0.7</td><td>0.6666667</td></tr>\n",
       "\t<tr><td>14.4</td><td>2.2</td><td>0.7666667</td></tr>\n",
       "</tbody>\n",
       "</table>\n"
      ],
      "text/latex": [
       "A tibble: 6 × 3\n",
       "\\begin{tabular}{lll}\n",
       " sleep\\_total & sleep\\_rem & sleep\\_cycle\\\\\n",
       " <dbl> & <dbl> & <dbl>\\\\\n",
       "\\hline\n",
       "\t 12.1 &  NA &        NA\\\\\n",
       "\t 17.0 & 1.8 &        NA\\\\\n",
       "\t 14.4 & 2.4 &        NA\\\\\n",
       "\t 14.9 & 2.3 & 0.1333333\\\\\n",
       "\t  4.0 & 0.7 & 0.6666667\\\\\n",
       "\t 14.4 & 2.2 & 0.7666667\\\\\n",
       "\\end{tabular}\n"
      ],
      "text/markdown": [
       "\n",
       "A tibble: 6 × 3\n",
       "\n",
       "| sleep_total &lt;dbl&gt; | sleep_rem &lt;dbl&gt; | sleep_cycle &lt;dbl&gt; |\n",
       "|---|---|---|\n",
       "| 12.1 |  NA |        NA |\n",
       "| 17.0 | 1.8 |        NA |\n",
       "| 14.4 | 2.4 |        NA |\n",
       "| 14.9 | 2.3 | 0.1333333 |\n",
       "|  4.0 | 0.7 | 0.6666667 |\n",
       "| 14.4 | 2.2 | 0.7666667 |\n",
       "\n"
      ],
      "text/plain": [
       "  sleep_total sleep_rem sleep_cycle\n",
       "1 12.1         NA              NA  \n",
       "2 17.0        1.8              NA  \n",
       "3 14.4        2.4              NA  \n",
       "4 14.9        2.3       0.1333333  \n",
       "5  4.0        0.7       0.6666667  \n",
       "6 14.4        2.2       0.7666667  "
      ]
     },
     "metadata": {},
     "output_type": "display_data"
    }
   ],
   "source": [
    "select(msleep, starts_with(\"sleep\")) %>%\n",
    "    head()"
   ]
  },
  {
   "cell_type": "markdown",
   "metadata": {},
   "source": [
    "4. Avec l'opérateur `%>%`, enchainez les opérations suivantes :\n",
    "Sélectionnez les colonnes `name`, `order` et `sleep_total`, triez en fonction de `order`puis de  `sleep_total` et enfin filtrer pour les mamifères dormant 16h ou plus."
   ]
  },
  {
   "cell_type": "code",
   "execution_count": 37,
   "metadata": {},
   "outputs": [
    {
     "data": {
      "text/html": [
       "<table>\n",
       "<caption>A tibble: 8 × 3</caption>\n",
       "<thead>\n",
       "\t<tr><th scope=col>name</th><th scope=col>order</th><th scope=col>sleep_total</th></tr>\n",
       "\t<tr><th scope=col>&lt;chr&gt;</th><th scope=col>&lt;chr&gt;</th><th scope=col>&lt;dbl&gt;</th></tr>\n",
       "</thead>\n",
       "<tbody>\n",
       "\t<tr><td>Big brown bat         </td><td>Chiroptera     </td><td>19.7</td></tr>\n",
       "\t<tr><td>Little brown bat      </td><td>Chiroptera     </td><td>19.9</td></tr>\n",
       "\t<tr><td>Long-nosed armadillo  </td><td>Cingulata      </td><td>17.4</td></tr>\n",
       "\t<tr><td>Giant armadillo       </td><td>Cingulata      </td><td>18.1</td></tr>\n",
       "\t<tr><td>North American Opossum</td><td>Didelphimorphia</td><td>18.0</td></tr>\n",
       "\t<tr><td>Thick-tailed opposum  </td><td>Didelphimorphia</td><td>19.4</td></tr>\n",
       "\t<tr><td>Owl monkey            </td><td>Primates       </td><td>17.0</td></tr>\n",
       "\t<tr><td>Arctic ground squirrel</td><td>Rodentia       </td><td>16.6</td></tr>\n",
       "</tbody>\n",
       "</table>\n"
      ],
      "text/latex": [
       "A tibble: 8 × 3\n",
       "\\begin{tabular}{lll}\n",
       " name & order & sleep\\_total\\\\\n",
       " <chr> & <chr> & <dbl>\\\\\n",
       "\\hline\n",
       "\t Big brown bat          & Chiroptera      & 19.7\\\\\n",
       "\t Little brown bat       & Chiroptera      & 19.9\\\\\n",
       "\t Long-nosed armadillo   & Cingulata       & 17.4\\\\\n",
       "\t Giant armadillo        & Cingulata       & 18.1\\\\\n",
       "\t North American Opossum & Didelphimorphia & 18.0\\\\\n",
       "\t Thick-tailed opposum   & Didelphimorphia & 19.4\\\\\n",
       "\t Owl monkey             & Primates        & 17.0\\\\\n",
       "\t Arctic ground squirrel & Rodentia        & 16.6\\\\\n",
       "\\end{tabular}\n"
      ],
      "text/markdown": [
       "\n",
       "A tibble: 8 × 3\n",
       "\n",
       "| name &lt;chr&gt; | order &lt;chr&gt; | sleep_total &lt;dbl&gt; |\n",
       "|---|---|---|\n",
       "| Big brown bat          | Chiroptera      | 19.7 |\n",
       "| Little brown bat       | Chiroptera      | 19.9 |\n",
       "| Long-nosed armadillo   | Cingulata       | 17.4 |\n",
       "| Giant armadillo        | Cingulata       | 18.1 |\n",
       "| North American Opossum | Didelphimorphia | 18.0 |\n",
       "| Thick-tailed opposum   | Didelphimorphia | 19.4 |\n",
       "| Owl monkey             | Primates        | 17.0 |\n",
       "| Arctic ground squirrel | Rodentia        | 16.6 |\n",
       "\n"
      ],
      "text/plain": [
       "  name                   order           sleep_total\n",
       "1 Big brown bat          Chiroptera      19.7       \n",
       "2 Little brown bat       Chiroptera      19.9       \n",
       "3 Long-nosed armadillo   Cingulata       17.4       \n",
       "4 Giant armadillo        Cingulata       18.1       \n",
       "5 North American Opossum Didelphimorphia 18.0       \n",
       "6 Thick-tailed opposum   Didelphimorphia 19.4       \n",
       "7 Owl monkey             Primates        17.0       \n",
       "8 Arctic ground squirrel Rodentia        16.6       "
      ]
     },
     "metadata": {},
     "output_type": "display_data"
    }
   ],
   "source": [
    "msleep %>%\n",
    "    select(name, order, sleep_total) %>%\n",
    "    arrange(order, sleep_total) %>%\n",
    "    filter(sleep_total > 16)"
   ]
  },
  {
   "cell_type": "markdown",
   "metadata": {},
   "source": [
    "5. Avec la fonction `mutate()`, créez une nouvelle variable `rem_proportion` qui calcule la proportion de sommeil paradoxal (`sleep_rem`) par rapport au sommeil total (`sleep_total`)"
   ]
  },
  {
   "cell_type": "code",
   "execution_count": 39,
   "metadata": {},
   "outputs": [
    {
     "data": {
      "text/html": [
       "<table>\n",
       "<caption>A tibble: 6 × 4</caption>\n",
       "<thead>\n",
       "\t<tr><th scope=col>name</th><th scope=col>order</th><th scope=col>sleep_total</th><th scope=col>rem_proportion</th></tr>\n",
       "\t<tr><th scope=col>&lt;chr&gt;</th><th scope=col>&lt;chr&gt;</th><th scope=col>&lt;dbl&gt;</th><th scope=col>&lt;dbl&gt;</th></tr>\n",
       "</thead>\n",
       "<tbody>\n",
       "\t<tr><td>Cheetah                   </td><td>Carnivora   </td><td>12.1</td><td>       NA</td></tr>\n",
       "\t<tr><td>Owl monkey                </td><td>Primates    </td><td>17.0</td><td>0.1058824</td></tr>\n",
       "\t<tr><td>Mountain beaver           </td><td>Rodentia    </td><td>14.4</td><td>0.1666667</td></tr>\n",
       "\t<tr><td>Greater short-tailed shrew</td><td>Soricomorpha</td><td>14.9</td><td>0.1543624</td></tr>\n",
       "\t<tr><td>Cow                       </td><td>Artiodactyla</td><td> 4.0</td><td>0.1750000</td></tr>\n",
       "\t<tr><td>Three-toed sloth          </td><td>Pilosa      </td><td>14.4</td><td>0.1527778</td></tr>\n",
       "</tbody>\n",
       "</table>\n"
      ],
      "text/latex": [
       "A tibble: 6 × 4\n",
       "\\begin{tabular}{llll}\n",
       " name & order & sleep\\_total & rem\\_proportion\\\\\n",
       " <chr> & <chr> & <dbl> & <dbl>\\\\\n",
       "\\hline\n",
       "\t Cheetah                    & Carnivora    & 12.1 &        NA\\\\\n",
       "\t Owl monkey                 & Primates     & 17.0 & 0.1058824\\\\\n",
       "\t Mountain beaver            & Rodentia     & 14.4 & 0.1666667\\\\\n",
       "\t Greater short-tailed shrew & Soricomorpha & 14.9 & 0.1543624\\\\\n",
       "\t Cow                        & Artiodactyla &  4.0 & 0.1750000\\\\\n",
       "\t Three-toed sloth           & Pilosa       & 14.4 & 0.1527778\\\\\n",
       "\\end{tabular}\n"
      ],
      "text/markdown": [
       "\n",
       "A tibble: 6 × 4\n",
       "\n",
       "| name &lt;chr&gt; | order &lt;chr&gt; | sleep_total &lt;dbl&gt; | rem_proportion &lt;dbl&gt; |\n",
       "|---|---|---|---|\n",
       "| Cheetah                    | Carnivora    | 12.1 |        NA |\n",
       "| Owl monkey                 | Primates     | 17.0 | 0.1058824 |\n",
       "| Mountain beaver            | Rodentia     | 14.4 | 0.1666667 |\n",
       "| Greater short-tailed shrew | Soricomorpha | 14.9 | 0.1543624 |\n",
       "| Cow                        | Artiodactyla |  4.0 | 0.1750000 |\n",
       "| Three-toed sloth           | Pilosa       | 14.4 | 0.1527778 |\n",
       "\n"
      ],
      "text/plain": [
       "  name                       order        sleep_total rem_proportion\n",
       "1 Cheetah                    Carnivora    12.1               NA     \n",
       "2 Owl monkey                 Primates     17.0        0.1058824     \n",
       "3 Mountain beaver            Rodentia     14.4        0.1666667     \n",
       "4 Greater short-tailed shrew Soricomorpha 14.9        0.1543624     \n",
       "5 Cow                        Artiodactyla  4.0        0.1750000     \n",
       "6 Three-toed sloth           Pilosa       14.4        0.1527778     "
      ]
     },
     "metadata": {},
     "output_type": "display_data"
    }
   ],
   "source": [
    "msleep %>%\n",
    "    mutate(rem_proportion = sleep_rem/sleep_total) %>%\n",
    "    select(name, order, sleep_total, rem_proportion) %>%\n",
    "    head()"
   ]
  },
  {
   "cell_type": "markdown",
   "metadata": {},
   "source": [
    "### Produite des résumés informatifs avec `summarise`"
   ]
  },
  {
   "cell_type": "code",
   "execution_count": 40,
   "metadata": {},
   "outputs": [
    {
     "data": {
      "text/html": [
       "<table>\n",
       "<caption>A tibble: 1 × 4</caption>\n",
       "<thead>\n",
       "\t<tr><th scope=col>avg_sleep</th><th scope=col>min_sleep</th><th scope=col>max_sleep</th><th scope=col>total</th></tr>\n",
       "\t<tr><th scope=col>&lt;dbl&gt;</th><th scope=col>&lt;dbl&gt;</th><th scope=col>&lt;dbl&gt;</th><th scope=col>&lt;int&gt;</th></tr>\n",
       "</thead>\n",
       "<tbody>\n",
       "\t<tr><td>10.43373</td><td>1.9</td><td>19.9</td><td>83</td></tr>\n",
       "</tbody>\n",
       "</table>\n"
      ],
      "text/latex": [
       "A tibble: 1 × 4\n",
       "\\begin{tabular}{llll}\n",
       " avg\\_sleep & min\\_sleep & max\\_sleep & total\\\\\n",
       " <dbl> & <dbl> & <dbl> & <int>\\\\\n",
       "\\hline\n",
       "\t 10.43373 & 1.9 & 19.9 & 83\\\\\n",
       "\\end{tabular}\n"
      ],
      "text/markdown": [
       "\n",
       "A tibble: 1 × 4\n",
       "\n",
       "| avg_sleep &lt;dbl&gt; | min_sleep &lt;dbl&gt; | max_sleep &lt;dbl&gt; | total &lt;int&gt; |\n",
       "|---|---|---|---|\n",
       "| 10.43373 | 1.9 | 19.9 | 83 |\n",
       "\n"
      ],
      "text/plain": [
       "  avg_sleep min_sleep max_sleep total\n",
       "1 10.43373  1.9       19.9      83   "
      ]
     },
     "metadata": {},
     "output_type": "display_data"
    }
   ],
   "source": [
    "msleep %>% \n",
    "    summarise(avg_sleep = mean(sleep_total), \n",
    "              min_sleep = min(sleep_total),\n",
    "              max_sleep = max(sleep_total),\n",
    "              total = n())"
   ]
  },
  {
   "cell_type": "markdown",
   "metadata": {},
   "source": [
    "6. Avec les fonctions `group_by()` et `summarise()` calculez, pour chaque ordre taxonomique : le nombre d'animaux, le temps de sommeil moyen, le temps de sommeil minimal et le temps de sommeil maximal."
   ]
  },
  {
   "cell_type": "code",
   "execution_count": 41,
   "metadata": {},
   "outputs": [
    {
     "data": {
      "text/html": [
       "<table>\n",
       "<caption>A tibble: 19 × 5</caption>\n",
       "<thead>\n",
       "\t<tr><th scope=col>order</th><th scope=col>avg_sleep</th><th scope=col>min_sleep</th><th scope=col>max_sleep</th><th scope=col>total</th></tr>\n",
       "\t<tr><th scope=col>&lt;chr&gt;</th><th scope=col>&lt;dbl&gt;</th><th scope=col>&lt;dbl&gt;</th><th scope=col>&lt;dbl&gt;</th><th scope=col>&lt;int&gt;</th></tr>\n",
       "</thead>\n",
       "<tbody>\n",
       "\t<tr><td>Afrosoricida   </td><td>15.600000</td><td>15.6</td><td>15.6</td><td> 1</td></tr>\n",
       "\t<tr><td>Artiodactyla   </td><td> 4.516667</td><td> 1.9</td><td> 9.1</td><td> 6</td></tr>\n",
       "\t<tr><td>Carnivora      </td><td>10.116667</td><td> 3.5</td><td>15.8</td><td>12</td></tr>\n",
       "\t<tr><td>Cetacea        </td><td> 4.500000</td><td> 2.7</td><td> 5.6</td><td> 3</td></tr>\n",
       "\t<tr><td>Chiroptera     </td><td>19.800000</td><td>19.7</td><td>19.9</td><td> 2</td></tr>\n",
       "\t<tr><td>Cingulata      </td><td>17.750000</td><td>17.4</td><td>18.1</td><td> 2</td></tr>\n",
       "\t<tr><td>Didelphimorphia</td><td>18.700000</td><td>18.0</td><td>19.4</td><td> 2</td></tr>\n",
       "\t<tr><td>Diprotodontia  </td><td>12.400000</td><td>11.1</td><td>13.7</td><td> 2</td></tr>\n",
       "\t<tr><td>Erinaceomorpha </td><td>10.200000</td><td>10.1</td><td>10.3</td><td> 2</td></tr>\n",
       "\t<tr><td>Hyracoidea     </td><td> 5.666667</td><td> 5.3</td><td> 6.3</td><td> 3</td></tr>\n",
       "\t<tr><td>Lagomorpha     </td><td> 8.400000</td><td> 8.4</td><td> 8.4</td><td> 1</td></tr>\n",
       "\t<tr><td>Monotremata    </td><td> 8.600000</td><td> 8.6</td><td> 8.6</td><td> 1</td></tr>\n",
       "\t<tr><td>Perissodactyla </td><td> 3.466667</td><td> 2.9</td><td> 4.4</td><td> 3</td></tr>\n",
       "\t<tr><td>Pilosa         </td><td>14.400000</td><td>14.4</td><td>14.4</td><td> 1</td></tr>\n",
       "\t<tr><td>Primates       </td><td>10.500000</td><td> 8.0</td><td>17.0</td><td>12</td></tr>\n",
       "\t<tr><td>Proboscidea    </td><td> 3.600000</td><td> 3.3</td><td> 3.9</td><td> 2</td></tr>\n",
       "\t<tr><td>Rodentia       </td><td>12.468182</td><td> 7.0</td><td>16.6</td><td>22</td></tr>\n",
       "\t<tr><td>Scandentia     </td><td> 8.900000</td><td> 8.9</td><td> 8.9</td><td> 1</td></tr>\n",
       "\t<tr><td>Soricomorpha   </td><td>11.100000</td><td> 8.4</td><td>14.9</td><td> 5</td></tr>\n",
       "</tbody>\n",
       "</table>\n"
      ],
      "text/latex": [
       "A tibble: 19 × 5\n",
       "\\begin{tabular}{lllll}\n",
       " order & avg\\_sleep & min\\_sleep & max\\_sleep & total\\\\\n",
       " <chr> & <dbl> & <dbl> & <dbl> & <int>\\\\\n",
       "\\hline\n",
       "\t Afrosoricida    & 15.600000 & 15.6 & 15.6 &  1\\\\\n",
       "\t Artiodactyla    &  4.516667 &  1.9 &  9.1 &  6\\\\\n",
       "\t Carnivora       & 10.116667 &  3.5 & 15.8 & 12\\\\\n",
       "\t Cetacea         &  4.500000 &  2.7 &  5.6 &  3\\\\\n",
       "\t Chiroptera      & 19.800000 & 19.7 & 19.9 &  2\\\\\n",
       "\t Cingulata       & 17.750000 & 17.4 & 18.1 &  2\\\\\n",
       "\t Didelphimorphia & 18.700000 & 18.0 & 19.4 &  2\\\\\n",
       "\t Diprotodontia   & 12.400000 & 11.1 & 13.7 &  2\\\\\n",
       "\t Erinaceomorpha  & 10.200000 & 10.1 & 10.3 &  2\\\\\n",
       "\t Hyracoidea      &  5.666667 &  5.3 &  6.3 &  3\\\\\n",
       "\t Lagomorpha      &  8.400000 &  8.4 &  8.4 &  1\\\\\n",
       "\t Monotremata     &  8.600000 &  8.6 &  8.6 &  1\\\\\n",
       "\t Perissodactyla  &  3.466667 &  2.9 &  4.4 &  3\\\\\n",
       "\t Pilosa          & 14.400000 & 14.4 & 14.4 &  1\\\\\n",
       "\t Primates        & 10.500000 &  8.0 & 17.0 & 12\\\\\n",
       "\t Proboscidea     &  3.600000 &  3.3 &  3.9 &  2\\\\\n",
       "\t Rodentia        & 12.468182 &  7.0 & 16.6 & 22\\\\\n",
       "\t Scandentia      &  8.900000 &  8.9 &  8.9 &  1\\\\\n",
       "\t Soricomorpha    & 11.100000 &  8.4 & 14.9 &  5\\\\\n",
       "\\end{tabular}\n"
      ],
      "text/markdown": [
       "\n",
       "A tibble: 19 × 5\n",
       "\n",
       "| order &lt;chr&gt; | avg_sleep &lt;dbl&gt; | min_sleep &lt;dbl&gt; | max_sleep &lt;dbl&gt; | total &lt;int&gt; |\n",
       "|---|---|---|---|---|\n",
       "| Afrosoricida    | 15.600000 | 15.6 | 15.6 |  1 |\n",
       "| Artiodactyla    |  4.516667 |  1.9 |  9.1 |  6 |\n",
       "| Carnivora       | 10.116667 |  3.5 | 15.8 | 12 |\n",
       "| Cetacea         |  4.500000 |  2.7 |  5.6 |  3 |\n",
       "| Chiroptera      | 19.800000 | 19.7 | 19.9 |  2 |\n",
       "| Cingulata       | 17.750000 | 17.4 | 18.1 |  2 |\n",
       "| Didelphimorphia | 18.700000 | 18.0 | 19.4 |  2 |\n",
       "| Diprotodontia   | 12.400000 | 11.1 | 13.7 |  2 |\n",
       "| Erinaceomorpha  | 10.200000 | 10.1 | 10.3 |  2 |\n",
       "| Hyracoidea      |  5.666667 |  5.3 |  6.3 |  3 |\n",
       "| Lagomorpha      |  8.400000 |  8.4 |  8.4 |  1 |\n",
       "| Monotremata     |  8.600000 |  8.6 |  8.6 |  1 |\n",
       "| Perissodactyla  |  3.466667 |  2.9 |  4.4 |  3 |\n",
       "| Pilosa          | 14.400000 | 14.4 | 14.4 |  1 |\n",
       "| Primates        | 10.500000 |  8.0 | 17.0 | 12 |\n",
       "| Proboscidea     |  3.600000 |  3.3 |  3.9 |  2 |\n",
       "| Rodentia        | 12.468182 |  7.0 | 16.6 | 22 |\n",
       "| Scandentia      |  8.900000 |  8.9 |  8.9 |  1 |\n",
       "| Soricomorpha    | 11.100000 |  8.4 | 14.9 |  5 |\n",
       "\n"
      ],
      "text/plain": [
       "   order           avg_sleep min_sleep max_sleep total\n",
       "1  Afrosoricida    15.600000 15.6      15.6       1   \n",
       "2  Artiodactyla     4.516667  1.9       9.1       6   \n",
       "3  Carnivora       10.116667  3.5      15.8      12   \n",
       "4  Cetacea          4.500000  2.7       5.6       3   \n",
       "5  Chiroptera      19.800000 19.7      19.9       2   \n",
       "6  Cingulata       17.750000 17.4      18.1       2   \n",
       "7  Didelphimorphia 18.700000 18.0      19.4       2   \n",
       "8  Diprotodontia   12.400000 11.1      13.7       2   \n",
       "9  Erinaceomorpha  10.200000 10.1      10.3       2   \n",
       "10 Hyracoidea       5.666667  5.3       6.3       3   \n",
       "11 Lagomorpha       8.400000  8.4       8.4       1   \n",
       "12 Monotremata      8.600000  8.6       8.6       1   \n",
       "13 Perissodactyla   3.466667  2.9       4.4       3   \n",
       "14 Pilosa          14.400000 14.4      14.4       1   \n",
       "15 Primates        10.500000  8.0      17.0      12   \n",
       "16 Proboscidea      3.600000  3.3       3.9       2   \n",
       "17 Rodentia        12.468182  7.0      16.6      22   \n",
       "18 Scandentia       8.900000  8.9       8.9       1   \n",
       "19 Soricomorpha    11.100000  8.4      14.9       5   "
      ]
     },
     "metadata": {},
     "output_type": "display_data"
    }
   ],
   "source": [
    "msleep %>% \n",
    "    group_by(order) %>%\n",
    "    summarise(avg_sleep = mean(sleep_total), \n",
    "              min_sleep = min(sleep_total),\n",
    "              max_sleep = max(sleep_total),\n",
    "              total = n())"
   ]
  },
  {
   "cell_type": "markdown",
   "metadata": {},
   "source": [
    "## Troisième partie : Ranger des données avec tidyr"
   ]
  },
  {
   "cell_type": "code",
   "execution_count": 42,
   "metadata": {},
   "outputs": [
    {
     "data": {
      "text/html": [
       "<table>\n",
       "<caption>A data.frame: 6 × 5</caption>\n",
       "<thead>\n",
       "\t<tr><th></th><th scope=col>Sepal.Length</th><th scope=col>Sepal.Width</th><th scope=col>Petal.Length</th><th scope=col>Petal.Width</th><th scope=col>Species</th></tr>\n",
       "\t<tr><th></th><th scope=col>&lt;dbl&gt;</th><th scope=col>&lt;dbl&gt;</th><th scope=col>&lt;dbl&gt;</th><th scope=col>&lt;dbl&gt;</th><th scope=col>&lt;fct&gt;</th></tr>\n",
       "</thead>\n",
       "<tbody>\n",
       "\t<tr><th scope=row>1</th><td>5.1</td><td>3.5</td><td>1.4</td><td>0.2</td><td>setosa</td></tr>\n",
       "\t<tr><th scope=row>2</th><td>4.9</td><td>3.0</td><td>1.4</td><td>0.2</td><td>setosa</td></tr>\n",
       "\t<tr><th scope=row>3</th><td>4.7</td><td>3.2</td><td>1.3</td><td>0.2</td><td>setosa</td></tr>\n",
       "\t<tr><th scope=row>4</th><td>4.6</td><td>3.1</td><td>1.5</td><td>0.2</td><td>setosa</td></tr>\n",
       "\t<tr><th scope=row>5</th><td>5.0</td><td>3.6</td><td>1.4</td><td>0.2</td><td>setosa</td></tr>\n",
       "\t<tr><th scope=row>6</th><td>5.4</td><td>3.9</td><td>1.7</td><td>0.4</td><td>setosa</td></tr>\n",
       "</tbody>\n",
       "</table>\n"
      ],
      "text/latex": [
       "A data.frame: 6 × 5\n",
       "\\begin{tabular}{r|lllll}\n",
       "  & Sepal.Length & Sepal.Width & Petal.Length & Petal.Width & Species\\\\\n",
       "  & <dbl> & <dbl> & <dbl> & <dbl> & <fct>\\\\\n",
       "\\hline\n",
       "\t1 & 5.1 & 3.5 & 1.4 & 0.2 & setosa\\\\\n",
       "\t2 & 4.9 & 3.0 & 1.4 & 0.2 & setosa\\\\\n",
       "\t3 & 4.7 & 3.2 & 1.3 & 0.2 & setosa\\\\\n",
       "\t4 & 4.6 & 3.1 & 1.5 & 0.2 & setosa\\\\\n",
       "\t5 & 5.0 & 3.6 & 1.4 & 0.2 & setosa\\\\\n",
       "\t6 & 5.4 & 3.9 & 1.7 & 0.4 & setosa\\\\\n",
       "\\end{tabular}\n"
      ],
      "text/markdown": [
       "\n",
       "A data.frame: 6 × 5\n",
       "\n",
       "| <!--/--> | Sepal.Length &lt;dbl&gt; | Sepal.Width &lt;dbl&gt; | Petal.Length &lt;dbl&gt; | Petal.Width &lt;dbl&gt; | Species &lt;fct&gt; |\n",
       "|---|---|---|---|---|---|\n",
       "| 1 | 5.1 | 3.5 | 1.4 | 0.2 | setosa |\n",
       "| 2 | 4.9 | 3.0 | 1.4 | 0.2 | setosa |\n",
       "| 3 | 4.7 | 3.2 | 1.3 | 0.2 | setosa |\n",
       "| 4 | 4.6 | 3.1 | 1.5 | 0.2 | setosa |\n",
       "| 5 | 5.0 | 3.6 | 1.4 | 0.2 | setosa |\n",
       "| 6 | 5.4 | 3.9 | 1.7 | 0.4 | setosa |\n",
       "\n"
      ],
      "text/plain": [
       "  Sepal.Length Sepal.Width Petal.Length Petal.Width Species\n",
       "1 5.1          3.5         1.4          0.2         setosa \n",
       "2 4.9          3.0         1.4          0.2         setosa \n",
       "3 4.7          3.2         1.3          0.2         setosa \n",
       "4 4.6          3.1         1.5          0.2         setosa \n",
       "5 5.0          3.6         1.4          0.2         setosa \n",
       "6 5.4          3.9         1.7          0.4         setosa "
      ]
     },
     "metadata": {},
     "output_type": "display_data"
    }
   ],
   "source": [
    "head(iris)"
   ]
  },
  {
   "cell_type": "markdown",
   "metadata": {},
   "source": [
    "1. En utilisant la fonction `pivot_longer()`, créez un jeu de données où les étiquettes `Sepal.Length` `Sepal.Width`  `Petal.Length` `Petal.Width` sont bien rangées dans une colonne appelée `Variables`. Les mesures correspondantes sont rangées dans une colonne appelée `Mesures`."
   ]
  },
  {
   "cell_type": "code",
   "execution_count": 43,
   "metadata": {},
   "outputs": [
    {
     "data": {
      "text/html": [
       "<table>\n",
       "<caption>A tibble: 6 × 3</caption>\n",
       "<thead>\n",
       "\t<tr><th scope=col>Species</th><th scope=col>name</th><th scope=col>value</th></tr>\n",
       "\t<tr><th scope=col>&lt;fct&gt;</th><th scope=col>&lt;chr&gt;</th><th scope=col>&lt;dbl&gt;</th></tr>\n",
       "</thead>\n",
       "<tbody>\n",
       "\t<tr><td>setosa</td><td>Sepal.Length</td><td>5.1</td></tr>\n",
       "\t<tr><td>setosa</td><td>Sepal.Width </td><td>3.5</td></tr>\n",
       "\t<tr><td>setosa</td><td>Petal.Length</td><td>1.4</td></tr>\n",
       "\t<tr><td>setosa</td><td>Petal.Width </td><td>0.2</td></tr>\n",
       "\t<tr><td>setosa</td><td>Sepal.Length</td><td>4.9</td></tr>\n",
       "\t<tr><td>setosa</td><td>Sepal.Width </td><td>3.0</td></tr>\n",
       "</tbody>\n",
       "</table>\n"
      ],
      "text/latex": [
       "A tibble: 6 × 3\n",
       "\\begin{tabular}{lll}\n",
       " Species & name & value\\\\\n",
       " <fct> & <chr> & <dbl>\\\\\n",
       "\\hline\n",
       "\t setosa & Sepal.Length & 5.1\\\\\n",
       "\t setosa & Sepal.Width  & 3.5\\\\\n",
       "\t setosa & Petal.Length & 1.4\\\\\n",
       "\t setosa & Petal.Width  & 0.2\\\\\n",
       "\t setosa & Sepal.Length & 4.9\\\\\n",
       "\t setosa & Sepal.Width  & 3.0\\\\\n",
       "\\end{tabular}\n"
      ],
      "text/markdown": [
       "\n",
       "A tibble: 6 × 3\n",
       "\n",
       "| Species &lt;fct&gt; | name &lt;chr&gt; | value &lt;dbl&gt; |\n",
       "|---|---|---|\n",
       "| setosa | Sepal.Length | 5.1 |\n",
       "| setosa | Sepal.Width  | 3.5 |\n",
       "| setosa | Petal.Length | 1.4 |\n",
       "| setosa | Petal.Width  | 0.2 |\n",
       "| setosa | Sepal.Length | 4.9 |\n",
       "| setosa | Sepal.Width  | 3.0 |\n",
       "\n"
      ],
      "text/plain": [
       "  Species name         value\n",
       "1 setosa  Sepal.Length 5.1  \n",
       "2 setosa  Sepal.Width  3.5  \n",
       "3 setosa  Petal.Length 1.4  \n",
       "4 setosa  Petal.Width  0.2  \n",
       "5 setosa  Sepal.Length 4.9  \n",
       "6 setosa  Sepal.Width  3.0  "
      ]
     },
     "metadata": {},
     "output_type": "display_data"
    }
   ],
   "source": [
    "pivot_longer(iris, cols = -Species) %>%\n",
    "    head()"
   ]
  },
  {
   "cell_type": "markdown",
   "metadata": {},
   "source": [
    "2. À partir du jeu de données précédent, créez le boxplot attendu. "
   ]
  },
  {
   "cell_type": "code",
   "execution_count": 45,
   "metadata": {},
   "outputs": [
    {
     "data": {
      "image/png": "[encoded data removed]",
      "text/plain": [
       "plot without title"
      ]
     },
     "metadata": {
      "image/png": {
       "height": 420,
       "width": 420
      }
     },
     "output_type": "display_data"
    }
   ],
   "source": [
    "pivot_longer(iris, cols = -Species) %>%\n",
    "    ggplot(mapping = aes(x = name, y = value)) + geom_boxplot(mapping = aes(fill = name))"
   ]
  },
  {
   "cell_type": "markdown",
   "metadata": {},
   "source": [
    "3. Avec la fonction `separate()` séparez le data frame suivant en trois colonnes : Year, Month et Day "
   ]
  },
  {
   "cell_type": "code",
   "execution_count": 46,
   "metadata": {},
   "outputs": [
    {
     "data": {
      "text/html": [
       "<table>\n",
       "<caption>A data.frame: 13 × 1</caption>\n",
       "<thead>\n",
       "\t<tr><th scope=col>Date</th></tr>\n",
       "\t<tr><th scope=col>&lt;date&gt;</th></tr>\n",
       "</thead>\n",
       "<tbody>\n",
       "\t<tr><td>2017-01-01</td></tr>\n",
       "\t<tr><td>2017-01-02</td></tr>\n",
       "\t<tr><td>2017-01-03</td></tr>\n",
       "\t<tr><td>2017-01-04</td></tr>\n",
       "\t<tr><td>2017-01-05</td></tr>\n",
       "\t<tr><td>2017-01-06</td></tr>\n",
       "\t<tr><td>2017-01-07</td></tr>\n",
       "\t<tr><td>2017-01-08</td></tr>\n",
       "\t<tr><td>2017-01-09</td></tr>\n",
       "\t<tr><td>2017-01-10</td></tr>\n",
       "\t<tr><td>2017-01-11</td></tr>\n",
       "\t<tr><td>2017-01-12</td></tr>\n",
       "\t<tr><td>2017-01-13</td></tr>\n",
       "</tbody>\n",
       "</table>\n"
      ],
      "text/latex": [
       "A data.frame: 13 × 1\n",
       "\\begin{tabular}{l}\n",
       " Date\\\\\n",
       " <date>\\\\\n",
       "\\hline\n",
       "\t 2017-01-01\\\\\n",
       "\t 2017-01-02\\\\\n",
       "\t 2017-01-03\\\\\n",
       "\t 2017-01-04\\\\\n",
       "\t 2017-01-05\\\\\n",
       "\t 2017-01-06\\\\\n",
       "\t 2017-01-07\\\\\n",
       "\t 2017-01-08\\\\\n",
       "\t 2017-01-09\\\\\n",
       "\t 2017-01-10\\\\\n",
       "\t 2017-01-11\\\\\n",
       "\t 2017-01-12\\\\\n",
       "\t 2017-01-13\\\\\n",
       "\\end{tabular}\n"
      ],
      "text/markdown": [
       "\n",
       "A data.frame: 13 × 1\n",
       "\n",
       "| Date &lt;date&gt; |\n",
       "|---|\n",
       "| 2017-01-01 |\n",
       "| 2017-01-02 |\n",
       "| 2017-01-03 |\n",
       "| 2017-01-04 |\n",
       "| 2017-01-05 |\n",
       "| 2017-01-06 |\n",
       "| 2017-01-07 |\n",
       "| 2017-01-08 |\n",
       "| 2017-01-09 |\n",
       "| 2017-01-10 |\n",
       "| 2017-01-11 |\n",
       "| 2017-01-12 |\n",
       "| 2017-01-13 |\n",
       "\n"
      ],
      "text/plain": [
       "   Date      \n",
       "1  2017-01-01\n",
       "2  2017-01-02\n",
       "3  2017-01-03\n",
       "4  2017-01-04\n",
       "5  2017-01-05\n",
       "6  2017-01-06\n",
       "7  2017-01-07\n",
       "8  2017-01-08\n",
       "9  2017-01-09\n",
       "10 2017-01-10\n",
       "11 2017-01-11\n",
       "12 2017-01-12\n",
       "13 2017-01-13"
      ]
     },
     "metadata": {},
     "output_type": "display_data"
    }
   ],
   "source": [
    "data.frame(Date = as.Date('2017-01-01') + 0:12)"
   ]
  },
  {
   "cell_type": "code",
   "execution_count": 47,
   "metadata": {},
   "outputs": [
    {
     "data": {
      "text/html": [
       "<table>\n",
       "<caption>A data.frame: 13 × 3</caption>\n",
       "<thead>\n",
       "\t<tr><th scope=col>Year</th><th scope=col>Month</th><th scope=col>Day</th></tr>\n",
       "\t<tr><th scope=col>&lt;chr&gt;</th><th scope=col>&lt;chr&gt;</th><th scope=col>&lt;chr&gt;</th></tr>\n",
       "</thead>\n",
       "<tbody>\n",
       "\t<tr><td>2017</td><td>01</td><td>01</td></tr>\n",
       "\t<tr><td>2017</td><td>01</td><td>02</td></tr>\n",
       "\t<tr><td>2017</td><td>01</td><td>03</td></tr>\n",
       "\t<tr><td>2017</td><td>01</td><td>04</td></tr>\n",
       "\t<tr><td>2017</td><td>01</td><td>05</td></tr>\n",
       "\t<tr><td>2017</td><td>01</td><td>06</td></tr>\n",
       "\t<tr><td>2017</td><td>01</td><td>07</td></tr>\n",
       "\t<tr><td>2017</td><td>01</td><td>08</td></tr>\n",
       "\t<tr><td>2017</td><td>01</td><td>09</td></tr>\n",
       "\t<tr><td>2017</td><td>01</td><td>10</td></tr>\n",
       "\t<tr><td>2017</td><td>01</td><td>11</td></tr>\n",
       "\t<tr><td>2017</td><td>01</td><td>12</td></tr>\n",
       "\t<tr><td>2017</td><td>01</td><td>13</td></tr>\n",
       "</tbody>\n",
       "</table>\n"
      ],
      "text/latex": [
       "A data.frame: 13 × 3\n",
       "\\begin{tabular}{lll}\n",
       " Year & Month & Day\\\\\n",
       " <chr> & <chr> & <chr>\\\\\n",
       "\\hline\n",
       "\t 2017 & 01 & 01\\\\\n",
       "\t 2017 & 01 & 02\\\\\n",
       "\t 2017 & 01 & 03\\\\\n",
       "\t 2017 & 01 & 04\\\\\n",
       "\t 2017 & 01 & 05\\\\\n",
       "\t 2017 & 01 & 06\\\\\n",
       "\t 2017 & 01 & 07\\\\\n",
       "\t 2017 & 01 & 08\\\\\n",
       "\t 2017 & 01 & 09\\\\\n",
       "\t 2017 & 01 & 10\\\\\n",
       "\t 2017 & 01 & 11\\\\\n",
       "\t 2017 & 01 & 12\\\\\n",
       "\t 2017 & 01 & 13\\\\\n",
       "\\end{tabular}\n"
      ],
      "text/markdown": [
       "\n",
       "A data.frame: 13 × 3\n",
       "\n",
       "| Year &lt;chr&gt; | Month &lt;chr&gt; | Day &lt;chr&gt; |\n",
       "|---|---|---|\n",
       "| 2017 | 01 | 01 |\n",
       "| 2017 | 01 | 02 |\n",
       "| 2017 | 01 | 03 |\n",
       "| 2017 | 01 | 04 |\n",
       "| 2017 | 01 | 05 |\n",
       "| 2017 | 01 | 06 |\n",
       "| 2017 | 01 | 07 |\n",
       "| 2017 | 01 | 08 |\n",
       "| 2017 | 01 | 09 |\n",
       "| 2017 | 01 | 10 |\n",
       "| 2017 | 01 | 11 |\n",
       "| 2017 | 01 | 12 |\n",
       "| 2017 | 01 | 13 |\n",
       "\n"
      ],
      "text/plain": [
       "   Year Month Day\n",
       "1  2017 01    01 \n",
       "2  2017 01    02 \n",
       "3  2017 01    03 \n",
       "4  2017 01    04 \n",
       "5  2017 01    05 \n",
       "6  2017 01    06 \n",
       "7  2017 01    07 \n",
       "8  2017 01    08 \n",
       "9  2017 01    09 \n",
       "10 2017 01    10 \n",
       "11 2017 01    11 \n",
       "12 2017 01    12 \n",
       "13 2017 01    13 "
      ]
     },
     "metadata": {},
     "output_type": "display_data"
    }
   ],
   "source": [
    "data.frame(Date = as.Date('2017-01-01') + 0:12) %>%\n",
    "separate(col = Date, into = c(\"Year\", \"Month\", \"Day\"), sep = \"-\")"
   ]
  }
 ],
 "metadata": {
  "kernelspec": {
   "display_name": "R 4.0.2",
   "language": "R",
   "name": "r-4.0.2"
  },
  "language_info": {
   "codemirror_mode": "r",
   "file_extension": ".r",
   "mimetype": "text/x-r-source",
   "name": "R",
   "pygments_lexer": "r",
   "version": "4.0.2"
  }
 },
 "nbformat": 4,
 "nbformat_minor": 4
}

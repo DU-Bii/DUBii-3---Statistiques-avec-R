{
 "cells": [
  {
   "cell_type": "code",
   "execution_count": null,
   "metadata": {},
   "outputs": [],
   "source": [
    "library(tidyverse)"
   ]
  },
  {
   "cell_type": "markdown",
   "metadata": {},
   "source": [
    "## Deuxième partie : Manipulation des données avec dplyr"
   ]
  },
  {
   "cell_type": "markdown",
   "metadata": {},
   "source": [
    "1. Avec la fonction `filter()`, trouvez les 8 mamifères qui dorment plus de 16 heures par jour"
   ]
  },
  {
   "cell_type": "code",
   "execution_count": null,
   "metadata": {},
   "outputs": [],
   "source": []
  },
  {
   "cell_type": "markdown",
   "metadata": {},
   "source": [
    "2. Avec la fonction `arrange()`, triez les données par ordre taxonomique (`order`) puis par temps de sommeil croissant (`sleep_total`)"
   ]
  },
  {
   "cell_type": "code",
   "execution_count": null,
   "metadata": {},
   "outputs": [],
   "source": []
  },
  {
   "cell_type": "markdown",
   "metadata": {},
   "source": [
    "3. Avec la fonction `select()`, sélectionnez les colonnes qui commencent par \"sleep\""
   ]
  },
  {
   "cell_type": "code",
   "execution_count": null,
   "metadata": {},
   "outputs": [],
   "source": []
  },
  {
   "cell_type": "markdown",
   "metadata": {},
   "source": [
    "4. Avec l'opérateur `%>%`, enchainez les opérations suivantes :\n",
    "Sélectionnez les colonnes `name`, `order` et `sleep_total`, triez en fonction de `order`puis de  `sleep_total` et enfin filtrer pour les mamifères dormant 16h ou plus."
   ]
  },
  {
   "cell_type": "code",
   "execution_count": null,
   "metadata": {},
   "outputs": [],
   "source": []
  },
  {
   "cell_type": "markdown",
   "metadata": {},
   "source": [
    "5. Avec la fonction `mutate()`, créez une nouvelle variable `rem_proportion` qui calcule la proportion de sommeil paradoxal (`sleep_rem`) par rapport au sommeil total (`sleep_total`)"
   ]
  },
  {
   "cell_type": "code",
   "execution_count": null,
   "metadata": {},
   "outputs": [],
   "source": []
  },
  {
   "cell_type": "code",
   "execution_count": null,
   "metadata": {},
   "outputs": [],
   "source": [
    "msleep %>% \n",
    "    summarise(avg_sleep = mean(sleep_total), \n",
    "              min_sleep = min(sleep_total),\n",
    "              max_sleep = max(sleep_total),\n",
    "              total = n())"
   ]
  },
  {
   "cell_type": "markdown",
   "metadata": {},
   "source": [
    "6. Avec les fonctions `group_by()` et `summarise()` calculez, pour chaque ordre taxonomique : le nombre d'animaux, le temps de sommeil moyen, le temps de sommeil minimal et le temps de sommeil maximal."
   ]
  },
  {
   "cell_type": "code",
   "execution_count": null,
   "metadata": {},
   "outputs": [],
   "source": []
  },
  {
   "cell_type": "markdown",
   "metadata": {},
   "source": [
    "## Troisième partie : Ranger des données avec tidyr"
   ]
  },
  {
   "cell_type": "code",
   "execution_count": null,
   "metadata": {},
   "outputs": [],
   "source": [
    "head(iris)"
   ]
  },
  {
   "cell_type": "markdown",
   "metadata": {},
   "source": [
    "1. En utilisant la fonction `pivot_longer()`, créez un jeu de données où les étiquettes `Sepal.Length` `Sepal.Width`  `Petal.Length` `Petal.Width` sont bien rangées dans une colonne appelée `Variables`. Les mesures correspondantes sont rangées dans une colonne appelée `Mesures`."
   ]
  },
  {
   "cell_type": "code",
   "execution_count": null,
   "metadata": {},
   "outputs": [],
   "source": []
  },
  {
   "cell_type": "markdown",
   "metadata": {},
   "source": [
    "2. À partir du jeu de données précédent, créez le boxplot attendu. "
   ]
  },
  {
   "cell_type": "code",
   "execution_count": null,
   "metadata": {},
   "outputs": [],
   "source": []
  },
  {
   "cell_type": "markdown",
   "metadata": {},
   "source": [
    "3. Avec la fonction `separate()` séparez le data frame suivant en trois colonnes : Year, Month et Day "
   ]
  },
  {
   "cell_type": "code",
   "execution_count": null,
   "metadata": {},
   "outputs": [],
   "source": [
    "data.frame(Date = as.Date('2017-01-01') + 0:12)"
   ]
  },
  {
   "cell_type": "code",
   "execution_count": null,
   "metadata": {},
   "outputs": [],
   "source": []
  }
 ],
 "metadata": {
  "kernelspec": {
   "display_name": "R 4.0.2",
   "language": "R",
   "name": "r-4.0.2"
  },
  "language_info": {
   "codemirror_mode": "r",
   "file_extension": ".r",
   "mimetype": "text/x-r-source",
   "name": "R",
   "pygments_lexer": "r",
   "version": "4.0.2"
  }
 },
 "nbformat": 4,
 "nbformat_minor": 4
}

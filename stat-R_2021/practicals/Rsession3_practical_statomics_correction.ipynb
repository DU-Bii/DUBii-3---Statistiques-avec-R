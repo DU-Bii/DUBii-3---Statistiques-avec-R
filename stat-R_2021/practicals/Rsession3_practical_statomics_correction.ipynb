{
 "cells": [
  {
   "cell_type": "markdown",
   "metadata": {},
   "source": [
    "\n",
    "# DU Bii - module 3: R and stats\n",
    "---\n",
    "## **Session 3: practical on statistics for omics data**\n",
    "*Thursday 4th of March, 2021*\n",
    "*Claire Vandiedonck*\n",
    "\n",
    "teachers: Claire Vandiedonck & Antoine Bridier-Nahmias; helpers: Anne Badel, Clémence Réda, Olivier Sand, Jacques van Helden\n",
    "\n",
    "*Content of this tutorial:*\n",
    "\n",
    "1. Test statisqtique de comparaison de moyennes: impact de la différence entre les moyennes et de la variance\n",
    "2. Effets des tests multiples sur les taux de faux positifs\n",
    "\n",
    "\n",
    "\n",
    "__*=> About this jupyter notebook*__\n",
    "\n",
    "This a jupyter notebook in **R**, meaning that the commands you will enter or run in `Code` cells are directly understood by the server in the R language.\n",
    "<br>You could run the same commands in a Terminal or in RStudio. \n",
    "\n",
    "\n",
    "> In this tutorial, you will run one cell at a time.\n",
    "\n",
    "<mark> Do not hesitate to try other commands by adding other cells.</mark>"
   ]
  },
  {
   "cell_type": "markdown",
   "metadata": {},
   "source": [
    "\n",
    "## 0. Before going further\n",
    "---"
   ]
  },
  {
   "cell_type": "markdown",
   "metadata": {},
   "source": [
    "Check your your working directory, and sit it to another path if needed:"
   ]
  },
  {
   "cell_type": "code",
   "execution_count": 1,
   "metadata": {},
   "outputs": [
    {
     "data": {
      "text/html": [
       "'/shared/ifbstor1/home/cvandiedonck/dubii2021/RSession3'"
      ],
      "text/latex": [
       "'/shared/ifbstor1/home/cvandiedonck/dubii2021/RSession3'"
      ],
      "text/markdown": [
       "'/shared/ifbstor1/home/cvandiedonck/dubii2021/RSession3'"
      ],
      "text/plain": [
       "[1] \"/shared/ifbstor1/home/cvandiedonck/dubii2021/RSession3\""
      ]
     },
     "metadata": {},
     "output_type": "display_data"
    }
   ],
   "source": [
    "getwd()"
   ]
  },
  {
   "cell_type": "code",
   "execution_count": 2,
   "metadata": {},
   "outputs": [],
   "source": [
    "#setwd('/shared/home/cvandiedonck/RSession3') #change with your login!!!\n",
    "#getwd() #change is visible"
   ]
  },
  {
   "cell_type": "markdown",
   "metadata": {},
   "source": [
    "## I. Test statistique de comparaison de moyennes: impact de la différence entre les moyennes et de la variance\n",
    "---\n"
   ]
  },
  {
   "cell_type": "markdown",
   "metadata": {},
   "source": [
    "### I.A. Deux populations avec une moyenne différente mais une même variance \n",
    "\n",
    "Nous allons d'abord tirer deux échantillons de deux populations présentant des moyennes différentes et une même variance.\n",
    "\n",
    "A titre d'exemple dans ce parctical nous prendrons la \"taille des humains debout\" comme trait d'intérêt.\n",
    "En France en 2001, les données de l'INSEE indiquaient une taille moyenne de 1.62 pour les femmes et de 1.74 m pour les hommes. Dans l'ensemble de la population, l'écacrt-type était d'environ 7 cm.\n",
    "\n",
    "- Générez 2 échantillons `sample1` et `sample2` de taille 100 issus de la population de femmes et de la population d'hommes avec les paramètres indiqués en supposant que la densité de probabilité de la taille suit une loi normale.\n",
    "\n",
    "*__Tip:__ utiliser la fonction `rnorm()`*"
   ]
  },
  {
   "cell_type": "code",
   "execution_count": 3,
   "metadata": {},
   "outputs": [],
   "source": [
    "sample1 <- rnorm(n=100, mean=162, sd=7)"
   ]
  },
  {
   "cell_type": "code",
   "execution_count": 4,
   "metadata": {},
   "outputs": [],
   "source": [
    "sample2 <- rnorm(n=100, mean=174, sd=7)"
   ]
  },
  {
   "cell_type": "markdown",
   "metadata": {},
   "source": [
    "- Regardez les valeurs résumées des distributions obersvées et faites un simple boxplot de ces distributions.\n",
    "\n",
    "*__Tip:__ utiliser les fonctions `summary()` et `boxplot`*"
   ]
  },
  {
   "cell_type": "code",
   "execution_count": 5,
   "metadata": {},
   "outputs": [
    {
     "data": {
      "text/plain": [
       "   Min. 1st Qu.  Median    Mean 3rd Qu.    Max. \n",
       "  147.2   158.2   163.3   162.5   166.9   184.4 "
      ]
     },
     "metadata": {},
     "output_type": "display_data"
    },
    {
     "data": {
      "text/plain": [
       "   Min. 1st Qu.  Median    Mean 3rd Qu.    Max. \n",
       "  157.0   167.8   172.8   172.4   177.3   193.4 "
      ]
     },
     "metadata": {},
     "output_type": "display_data"
    }
   ],
   "source": [
    "summary(sample1)\n",
    "summary(sample2)"
   ]
  },
  {
   "cell_type": "code",
   "execution_count": 6,
   "metadata": {},
   "outputs": [
    {
     "data": {
      "image/png": "[encoded data removed]",
      "text/plain": [
       "plot without title"
      ]
     },
     "metadata": {
      "image/png": {
       "height": 420,
       "width": 420
      }
     },
     "output_type": "display_data"
    }
   ],
   "source": [
    "boxplot(sample1, sample2)"
   ]
  },
  {
   "cell_type": "markdown",
   "metadata": {},
   "source": [
    "- Testez la différence des moyennes entre les deux populations d'où sont issus ces échantillons avec un test de Student bilatéral\n",
    "\n",
    "*__Tip:__ utiliser la fonction `t.test()`*"
   ]
  },
  {
   "cell_type": "code",
   "execution_count": 7,
   "metadata": {},
   "outputs": [
    {
     "data": {
      "text/plain": [
       "\n",
       "\tWelch Two Sample t-test\n",
       "\n",
       "data:  sample1 and sample2\n",
       "t = -10.223, df = 197.96, p-value < 2.2e-16\n",
       "alternative hypothesis: true difference in means is not equal to 0\n",
       "95 percent confidence interval:\n",
       " -11.779396  -7.969723\n",
       "sample estimates:\n",
       "mean of x mean of y \n",
       " 162.4941  172.3687 \n"
      ]
     },
     "metadata": {},
     "output_type": "display_data"
    }
   ],
   "source": [
    "t.test(sample1, sample2, alternative = \"two.sided\")"
   ]
  },
  {
   "cell_type": "markdown",
   "metadata": {},
   "source": [
    "- Quelle est la valeur de la p-value?\n",
    "\n",
    "*__Tip:__ utilisez la fonction `str()` pour voir comment extraire cette pvalue du test*"
   ]
  },
  {
   "cell_type": "code",
   "execution_count": 8,
   "metadata": {},
   "outputs": [
    {
     "name": "stdout",
     "output_type": "stream",
     "text": [
      "List of 10\n",
      " $ statistic  : Named num -10.2\n",
      "  ..- attr(*, \"names\")= chr \"t\"\n",
      " $ parameter  : Named num 198\n",
      "  ..- attr(*, \"names\")= chr \"df\"\n",
      " $ p.value    : num 5.72e-20\n",
      " $ conf.int   : num [1:2] -11.78 -7.97\n",
      "  ..- attr(*, \"conf.level\")= num 0.95\n",
      " $ estimate   : Named num [1:2] 162 172\n",
      "  ..- attr(*, \"names\")= chr [1:2] \"mean of x\" \"mean of y\"\n",
      " $ null.value : Named num 0\n",
      "  ..- attr(*, \"names\")= chr \"difference in means\"\n",
      " $ stderr     : num 0.966\n",
      " $ alternative: chr \"two.sided\"\n",
      " $ method     : chr \"Welch Two Sample t-test\"\n",
      " $ data.name  : chr \"sample1 and sample2\"\n",
      " - attr(*, \"class\")= chr \"htest\"\n"
     ]
    }
   ],
   "source": [
    "str(t.test(sample1, sample2, alternative = \"two.sided\"))"
   ]
  },
  {
   "cell_type": "code",
   "execution_count": 9,
   "metadata": {},
   "outputs": [
    {
     "data": {
      "text/html": [
       "5.72396607010878e-20"
      ],
      "text/latex": [
       "5.72396607010878e-20"
      ],
      "text/markdown": [
       "5.72396607010878e-20"
      ],
      "text/plain": [
       "[1] 5.723966e-20"
      ]
     },
     "metadata": {},
     "output_type": "display_data"
    }
   ],
   "source": [
    "t.test(sample1, sample2, alternative = \"two.sided\")$p.value"
   ]
  },
  {
   "cell_type": "markdown",
   "metadata": {},
   "source": [
    "Illustrons à présent cette différence à l'aide du paquet dabestR https://github.com/ACCLAB/dabestr"
   ]
  },
  {
   "cell_type": "markdown",
   "metadata": {},
   "source": [
    "- Installez le paquet dabestr s'il n'est pas déjà installé et chargez-le dans votre session R.\n",
    "\n",
    "*__Tip:__ utilisez la fonction `requireNamespace)`, `install.packages()`, `library()` et `sessionInfo()`*"
   ]
  },
  {
   "cell_type": "code",
   "execution_count": 10,
   "metadata": {},
   "outputs": [
    {
     "name": "stderr",
     "output_type": "stream",
     "text": [
      "Loading required namespace: dabestr\n",
      "\n",
      "Loading required package: magrittr\n",
      "\n",
      "Warning message:\n",
      "“package ‘magrittr’ was built under R version 4.0.3”\n"
     ]
    },
    {
     "data": {
      "text/plain": [
       "R version 4.0.2 (2020-06-22)\n",
       "Platform: x86_64-conda_cos6-linux-gnu (64-bit)\n",
       "Running under: CentOS Linux 7 (Core)\n",
       "\n",
       "Matrix products: default\n",
       "BLAS/LAPACK: /shared/ifbstor1/software/miniconda/envs/r-4.0.2/lib/libopenblasp-r0.3.10.so\n",
       "\n",
       "locale:\n",
       " [1] LC_CTYPE=en_US.UTF-8       LC_NUMERIC=C              \n",
       " [3] LC_TIME=en_US.UTF-8        LC_COLLATE=en_US.UTF-8    \n",
       " [5] LC_MONETARY=en_US.UTF-8    LC_MESSAGES=en_US.UTF-8   \n",
       " [7] LC_PAPER=en_US.UTF-8       LC_NAME=C                 \n",
       " [9] LC_ADDRESS=C               LC_TELEPHONE=C            \n",
       "[11] LC_MEASUREMENT=en_US.UTF-8 LC_IDENTIFICATION=C       \n",
       "\n",
       "attached base packages:\n",
       "[1] stats     graphics  grDevices utils     datasets  methods   base     \n",
       "\n",
       "other attached packages:\n",
       "[1] dabestr_0.3.0  magrittr_2.0.1\n",
       "\n",
       "loaded via a namespace (and not attached):\n",
       " [1] munsell_0.5.0    tidyselect_1.1.0 uuid_0.1-4       colorspace_2.0-0\n",
       " [5] R6_2.5.0         rlang_0.4.10     stringr_1.4.0    dplyr_1.0.3     \n",
       " [9] tools_4.0.2      grid_4.0.2       gtable_0.3.0     DBI_1.1.1       \n",
       "[13] htmltools_0.5.1  ellipsis_0.3.1   assertthat_0.2.1 digest_0.6.27   \n",
       "[17] tibble_3.0.5     lifecycle_0.2.0  crayon_1.3.4     IRdisplay_0.7.0 \n",
       "[21] ggplot2_3.3.3    purrr_0.3.4      repr_1.1.0       base64enc_0.1-3 \n",
       "[25] vctrs_0.3.6      IRkernel_1.1.1   glue_1.4.2       evaluate_0.14   \n",
       "[29] stringi_1.5.3    pbdZMQ_0.3-3.1   compiler_4.0.2   pillar_1.4.7    \n",
       "[33] scales_1.1.1     generics_0.1.0   boot_1.3-25      jsonlite_1.7.2  \n",
       "[37] pkgconfig_2.0.3  Cairo_1.5-12.2  "
      ]
     },
     "metadata": {},
     "output_type": "display_data"
    }
   ],
   "source": [
    "if (!requireNamespace(\"dabestr\"))\n",
    "  install.packages(\"dabestr\")\n",
    "library(dabestr)\n",
    "sessionInfo()"
   ]
  },
  {
   "cell_type": "markdown",
   "metadata": {},
   "source": [
    "- Consultez la page github de dabestr voire sa vignette et faites une représentation graphique dite ***Gardner-Altman estimation plot*** des distributions qui affiche l'IC de la moyenne en prenant les hommes comme groupe de référence.\n",
    "\n",
    "Pour cela vous devez d'abord générer un dataframe:\n",
    "\n",
    "    - Rassemblez les données des deux échantillons dans un dataframe avec deux colonnes `height` et `grp` pour le groupe.\n",
    "\n",
    "*__Tip:__ utilisez la fonction `data.frame()` sur un vecteur concanténant les taille des deux échantillons avec la fonction `c()` et un vecteur répétant les valeurs 1 et 2 100 fois dans le bon ordre avec la fonction `rep()` et son argument `each=`*"
   ]
  },
  {
   "cell_type": "code",
   "execution_count": 11,
   "metadata": {},
   "outputs": [],
   "source": [
    "df <- data.frame(height=c(sample1, sample2), grp=rep(c(1,2), each=100))"
   ]
  },
  {
   "cell_type": "markdown",
   "metadata": {},
   "source": [
    "    - Affichez les premières, dernières lignes du dataframe et sa structure. Comptez également le nombre d'obersvations appartenant au groupe 1 ou 2.\n",
    "\n",
    "*__Tip:__ utilisez les fonctions `head()` , `tail()`, `str()` et `table()`.*"
   ]
  },
  {
   "cell_type": "code",
   "execution_count": 12,
   "metadata": {},
   "outputs": [
    {
     "data": {
      "text/html": [
       "<table>\n",
       "<caption>A data.frame: 6 × 2</caption>\n",
       "<thead>\n",
       "\t<tr><th></th><th scope=col>height</th><th scope=col>grp</th></tr>\n",
       "\t<tr><th></th><th scope=col>&lt;dbl&gt;</th><th scope=col>&lt;dbl&gt;</th></tr>\n",
       "</thead>\n",
       "<tbody>\n",
       "\t<tr><th scope=row>1</th><td>162.7547</td><td>1</td></tr>\n",
       "\t<tr><th scope=row>2</th><td>160.3425</td><td>1</td></tr>\n",
       "\t<tr><th scope=row>3</th><td>158.9158</td><td>1</td></tr>\n",
       "\t<tr><th scope=row>4</th><td>164.2203</td><td>1</td></tr>\n",
       "\t<tr><th scope=row>5</th><td>152.4980</td><td>1</td></tr>\n",
       "\t<tr><th scope=row>6</th><td>163.6377</td><td>1</td></tr>\n",
       "</tbody>\n",
       "</table>\n"
      ],
      "text/latex": [
       "A data.frame: 6 × 2\n",
       "\\begin{tabular}{r|ll}\n",
       "  & height & grp\\\\\n",
       "  & <dbl> & <dbl>\\\\\n",
       "\\hline\n",
       "\t1 & 162.7547 & 1\\\\\n",
       "\t2 & 160.3425 & 1\\\\\n",
       "\t3 & 158.9158 & 1\\\\\n",
       "\t4 & 164.2203 & 1\\\\\n",
       "\t5 & 152.4980 & 1\\\\\n",
       "\t6 & 163.6377 & 1\\\\\n",
       "\\end{tabular}\n"
      ],
      "text/markdown": [
       "\n",
       "A data.frame: 6 × 2\n",
       "\n",
       "| <!--/--> | height &lt;dbl&gt; | grp &lt;dbl&gt; |\n",
       "|---|---|---|\n",
       "| 1 | 162.7547 | 1 |\n",
       "| 2 | 160.3425 | 1 |\n",
       "| 3 | 158.9158 | 1 |\n",
       "| 4 | 164.2203 | 1 |\n",
       "| 5 | 152.4980 | 1 |\n",
       "| 6 | 163.6377 | 1 |\n",
       "\n"
      ],
      "text/plain": [
       "  height   grp\n",
       "1 162.7547 1  \n",
       "2 160.3425 1  \n",
       "3 158.9158 1  \n",
       "4 164.2203 1  \n",
       "5 152.4980 1  \n",
       "6 163.6377 1  "
      ]
     },
     "metadata": {},
     "output_type": "display_data"
    }
   ],
   "source": [
    "head(df)"
   ]
  },
  {
   "cell_type": "code",
   "execution_count": 13,
   "metadata": {},
   "outputs": [
    {
     "data": {
      "text/html": [
       "<table>\n",
       "<caption>A data.frame: 6 × 2</caption>\n",
       "<thead>\n",
       "\t<tr><th></th><th scope=col>height</th><th scope=col>grp</th></tr>\n",
       "\t<tr><th></th><th scope=col>&lt;dbl&gt;</th><th scope=col>&lt;dbl&gt;</th></tr>\n",
       "</thead>\n",
       "<tbody>\n",
       "\t<tr><th scope=row>195</th><td>177.2447</td><td>2</td></tr>\n",
       "\t<tr><th scope=row>196</th><td>167.3790</td><td>2</td></tr>\n",
       "\t<tr><th scope=row>197</th><td>171.7305</td><td>2</td></tr>\n",
       "\t<tr><th scope=row>198</th><td>172.6847</td><td>2</td></tr>\n",
       "\t<tr><th scope=row>199</th><td>178.4805</td><td>2</td></tr>\n",
       "\t<tr><th scope=row>200</th><td>175.7835</td><td>2</td></tr>\n",
       "</tbody>\n",
       "</table>\n"
      ],
      "text/latex": [
       "A data.frame: 6 × 2\n",
       "\\begin{tabular}{r|ll}\n",
       "  & height & grp\\\\\n",
       "  & <dbl> & <dbl>\\\\\n",
       "\\hline\n",
       "\t195 & 177.2447 & 2\\\\\n",
       "\t196 & 167.3790 & 2\\\\\n",
       "\t197 & 171.7305 & 2\\\\\n",
       "\t198 & 172.6847 & 2\\\\\n",
       "\t199 & 178.4805 & 2\\\\\n",
       "\t200 & 175.7835 & 2\\\\\n",
       "\\end{tabular}\n"
      ],
      "text/markdown": [
       "\n",
       "A data.frame: 6 × 2\n",
       "\n",
       "| <!--/--> | height &lt;dbl&gt; | grp &lt;dbl&gt; |\n",
       "|---|---|---|\n",
       "| 195 | 177.2447 | 2 |\n",
       "| 196 | 167.3790 | 2 |\n",
       "| 197 | 171.7305 | 2 |\n",
       "| 198 | 172.6847 | 2 |\n",
       "| 199 | 178.4805 | 2 |\n",
       "| 200 | 175.7835 | 2 |\n",
       "\n"
      ],
      "text/plain": [
       "    height   grp\n",
       "195 177.2447 2  \n",
       "196 167.3790 2  \n",
       "197 171.7305 2  \n",
       "198 172.6847 2  \n",
       "199 178.4805 2  \n",
       "200 175.7835 2  "
      ]
     },
     "metadata": {},
     "output_type": "display_data"
    }
   ],
   "source": [
    "tail(df)"
   ]
  },
  {
   "cell_type": "code",
   "execution_count": 14,
   "metadata": {},
   "outputs": [
    {
     "name": "stdout",
     "output_type": "stream",
     "text": [
      "'data.frame':\t200 obs. of  2 variables:\n",
      " $ height: num  163 160 159 164 152 ...\n",
      " $ grp   : num  1 1 1 1 1 1 1 1 1 1 ...\n"
     ]
    }
   ],
   "source": [
    "str(df)"
   ]
  },
  {
   "cell_type": "code",
   "execution_count": 15,
   "metadata": {},
   "outputs": [
    {
     "data": {
      "text/plain": [
       "\n",
       "  1   2 \n",
       "100 100 "
      ]
     },
     "metadata": {},
     "output_type": "display_data"
    }
   ],
   "source": [
    "table(df$grp)"
   ]
  },
  {
   "cell_type": "markdown",
   "metadata": {},
   "source": [
    "    - Faites de Grander-Latman estimation plot:\n",
    "\n",
    "*__Tip:__ utilisez les fonctions `dabest()` , `unpaired_mean_diff()`, et `plot()`.*"
   ]
  },
  {
   "cell_type": "code",
   "execution_count": 16,
   "metadata": {},
   "outputs": [
    {
     "data": {
      "text/plain": [
       "dabestr (Data Analysis with Bootstrap Estimation in R) v0.3.0\n",
       "=============================================================\n",
       "\n",
       "Good evening!\n",
       "The current time is 12:23 PM on Tuesday March 09, 2021.\n",
       "\n",
       "Dataset    :  df\n",
       "X Variable :  grp\n",
       "Y Variable :  height\n",
       "\n",
       "Unpaired mean difference of 2 (n = 100) minus 1 (n = 100)\n",
       " 9.87 [95CI  8; 11.8]\n",
       "\n",
       "\n",
       "5000 bootstrap resamples.\n",
       "All confidence intervals are bias-corrected and accelerated.\n"
      ]
     },
     "metadata": {},
     "output_type": "display_data"
    },
    {
     "data": {
      "image/png": "[encoded data removed]",
      "text/plain": [
       "plot without title"
      ]
     },
     "metadata": {
      "image/png": {
       "height": 420,
       "width": 420
      }
     },
     "output_type": "display_data"
    }
   ],
   "source": [
    "unpaired_mean_diff <- dabest(df, grp, height,\n",
    "                             idx = c(\"1\", \"2\"),\n",
    "                             paired = FALSE) %>% \n",
    "                      mean_diff()\n",
    "unpaired_mean_diff\n",
    "plot(unpaired_mean_diff)"
   ]
  },
  {
   "cell_type": "markdown",
   "metadata": {},
   "source": [
    "### I.B. Impact de la taille des échantillons, de la différence des moyennes ou de la variance\n",
    "\n",
    "Nous allons à présent étudier l'impact de la différence entre les moyennes des populations de départ ou celui de la variance sur la puissance de détecter une différence.\n",
    "\n",
    "- Pour jouer sur ces différents paramètres, écrivez une fonction qui prend comme argument la taille des échantillons, la moyenne et la variance de chacune des populations, et qui renvoie la statistique t et la pvalue du test de Student."
   ]
  },
  {
   "cell_type": "code",
   "execution_count": 17,
   "metadata": {},
   "outputs": [],
   "source": [
    "compute_tv <- function(n1, m1, s1, n2, m2, s2){\n",
    "    sample1 <- rnorm(n=n1, mean=m1, sd=s1)\n",
    "    sample2 <- rnorm(n=n2, mean=m2, sd=s2)\n",
    "    tval <- t.test(sample1, sample2, alternative = \"two.sided\")$statistic\n",
    "    pval <- t.test(sample1, sample2, alternative = \"two.sided\")$p.value\n",
    "    tv <- list(\"t\"=tval, \"p\"=pval)\n",
    "    return(tv)\n",
    "}"
   ]
  },
  {
   "cell_type": "markdown",
   "metadata": {},
   "source": [
    "- Faites le tests en prenant à présent les écarts types différents chez les hommes et les femmes qui sont respectivement de 7.1 cm et 6.5 cm dans la population Française en 2001."
   ]
  },
  {
   "cell_type": "code",
   "execution_count": 18,
   "metadata": {},
   "outputs": [
    {
     "data": {
      "text/html": [
       "<dl>\n",
       "\t<dt>$t</dt>\n",
       "\t\t<dd><strong>t:</strong> -13.987956846351</dd>\n",
       "\t<dt>$p</dt>\n",
       "\t\t<dd>4.06669423654191e-31</dd>\n",
       "</dl>\n"
      ],
      "text/latex": [
       "\\begin{description}\n",
       "\\item[\\$t] \\textbf{t:} -13.987956846351\n",
       "\\item[\\$p] 4.06669423654191e-31\n",
       "\\end{description}\n"
      ],
      "text/markdown": [
       "$t\n",
       ":   **t:** -13.987956846351\n",
       "$p\n",
       ":   4.06669423654191e-31\n",
       "\n",
       "\n"
      ],
      "text/plain": [
       "$t\n",
       "        t \n",
       "-13.98796 \n",
       "\n",
       "$p\n",
       "[1] 4.066694e-31\n"
      ]
     },
     "metadata": {},
     "output_type": "display_data"
    }
   ],
   "source": [
    "compute_tv(100, 162, 6.5, 100, 174, 7.1)"
   ]
  },
  {
   "cell_type": "markdown",
   "metadata": {},
   "source": [
    "- Refaites le test en réduisant les effectifs à 30 pour cahque échantillon."
   ]
  },
  {
   "cell_type": "code",
   "execution_count": 19,
   "metadata": {},
   "outputs": [
    {
     "data": {
      "text/html": [
       "<dl>\n",
       "\t<dt>$t</dt>\n",
       "\t\t<dd><strong>t:</strong> -4.67094879499133</dd>\n",
       "\t<dt>$p</dt>\n",
       "\t\t<dd>2.05444475523577e-05</dd>\n",
       "</dl>\n"
      ],
      "text/latex": [
       "\\begin{description}\n",
       "\\item[\\$t] \\textbf{t:} -4.67094879499133\n",
       "\\item[\\$p] 2.05444475523577e-05\n",
       "\\end{description}\n"
      ],
      "text/markdown": [
       "$t\n",
       ":   **t:** -4.67094879499133\n",
       "$p\n",
       ":   2.05444475523577e-05\n",
       "\n",
       "\n"
      ],
      "text/plain": [
       "$t\n",
       "        t \n",
       "-4.670949 \n",
       "\n",
       "$p\n",
       "[1] 2.054445e-05\n"
      ]
     },
     "metadata": {},
     "output_type": "display_data"
    }
   ],
   "source": [
    "compute_tv(30, 162, 6.5, 30, 174, 7.1)"
   ]
  },
  {
   "cell_type": "markdown",
   "metadata": {},
   "source": [
    "**=> Comment a varié la significativité?**"
   ]
  },
  {
   "cell_type": "markdown",
   "metadata": {},
   "source": [
    "Les paramètres de la distribution de la taille des humains varient aussi entre les populations dans le monde.\n",
    "\n",
    "- Refaites le test avec ces effectifs de 30, en gardant la même différence entre les moyennes mais en augmentant la variance à 25 pour chaque population."
   ]
  },
  {
   "cell_type": "code",
   "execution_count": 20,
   "metadata": {},
   "outputs": [
    {
     "data": {
      "text/html": [
       "<dl>\n",
       "\t<dt>$t</dt>\n",
       "\t\t<dd><strong>t:</strong> -1.41882851214672</dd>\n",
       "\t<dt>$p</dt>\n",
       "\t\t<dd>0.161303380927312</dd>\n",
       "</dl>\n"
      ],
      "text/latex": [
       "\\begin{description}\n",
       "\\item[\\$t] \\textbf{t:} -1.41882851214672\n",
       "\\item[\\$p] 0.161303380927312\n",
       "\\end{description}\n"
      ],
      "text/markdown": [
       "$t\n",
       ":   **t:** -1.41882851214672\n",
       "$p\n",
       ":   0.161303380927312\n",
       "\n",
       "\n"
      ],
      "text/plain": [
       "$t\n",
       "        t \n",
       "-1.418829 \n",
       "\n",
       "$p\n",
       "[1] 0.1613034\n"
      ]
     },
     "metadata": {},
     "output_type": "display_data"
    }
   ],
   "source": [
    "compute_tv(30, 162, 25, 30, 174, 25)"
   ]
  },
  {
   "cell_type": "markdown",
   "metadata": {},
   "source": [
    "**=> La différence, même importante entre les moyennes des populations, est-elle encore détectable?**"
   ]
  },
  {
   "cell_type": "markdown",
   "metadata": {},
   "source": [
    "- Refaites le test avec des populations présentant une petite différence entre les moyennes  (3 cm avec par exemple 160 cm pour les femmes et 163 cm pour les hommes) et des variances faibles (3 cm)"
   ]
  },
  {
   "cell_type": "code",
   "execution_count": 21,
   "metadata": {},
   "outputs": [
    {
     "data": {
      "text/html": [
       "<dl>\n",
       "\t<dt>$t</dt>\n",
       "\t\t<dd><strong>t:</strong> -2.24359804586757</dd>\n",
       "\t<dt>$p</dt>\n",
       "\t\t<dd>0.0289520612020721</dd>\n",
       "</dl>\n"
      ],
      "text/latex": [
       "\\begin{description}\n",
       "\\item[\\$t] \\textbf{t:} -2.24359804586757\n",
       "\\item[\\$p] 0.0289520612020721\n",
       "\\end{description}\n"
      ],
      "text/markdown": [
       "$t\n",
       ":   **t:** -2.24359804586757\n",
       "$p\n",
       ":   0.0289520612020721\n",
       "\n",
       "\n"
      ],
      "text/plain": [
       "$t\n",
       "        t \n",
       "-2.243598 \n",
       "\n",
       "$p\n",
       "[1] 0.02895206\n"
      ]
     },
     "metadata": {},
     "output_type": "display_data"
    }
   ],
   "source": [
    "compute_tv(30, 160, 3, 30, 163, 3)"
   ]
  },
  {
   "cell_type": "markdown",
   "metadata": {},
   "source": [
    "**=> Détectez-vous quand même une différence statistiquement significative?**"
   ]
  },
  {
   "cell_type": "markdown",
   "metadata": {},
   "source": [
    "<div class=\"alert alert-block alert-warning\"><b>Conclusion:</b>\n",
    "La puissance du test augmente avec:\n",
    "    \n",
    "- la taille des échantillons\n",
    "- la différence entre les moyennes des populations\n",
    "- une petite variance </div>"
   ]
  },
  {
   "cell_type": "markdown",
   "metadata": {},
   "source": [
    "## II. Effet des tests multiples sur le taux de faux positifs\n",
    "---"
   ]
  },
  {
   "cell_type": "markdown",
   "metadata": {},
   "source": [
    "Dans les jeux de données omiques, on effectue autant de tests que de \"features\".\n",
    "\n",
    "Nous n'allons pas générer dans ce practical de multiples features mais nous allons prendre notre trait de la taille et tester par simulation l'impact des tests multiples sur les faux positifs."
   ]
  },
  {
   "cell_type": "markdown",
   "metadata": {},
   "source": [
    "Nous repartons du dataframe généré ci-dessus."
   ]
  },
  {
   "cell_type": "markdown",
   "metadata": {},
   "source": [
    "- Nous allons simuler 10000 échantillons sous une hypothèse nulle où le groupe ne modifie pas les moyennes. Pour ce faire, générez 10000 permutations de Monte-Carlo en tirant au hasard les statuts pour les groupes. Et récupérez les valeurs de tests `tvalues` et `pvalues` .\n",
    "\n",
    "*__Tip:__ Utilisez la fonction `for()` pour faire répéter votre code 1000 fois. Dans la boucle, générez un vecteur avec les valeurs perumutées pour le groupe et effectuez le test pour récupérer les valeurs p et de statsitique* "
   ]
  },
  {
   "cell_type": "code",
   "execution_count": 22,
   "metadata": {},
   "outputs": [],
   "source": [
    "tvalues <- c()\n",
    "pvalues <- c()\n",
    "\n",
    "for(i in 1:10000){\n",
    "    perm_df <- df\n",
    "    perm_df$grp <- sample(perm_df$grp, size=200)\n",
    "    tval <- t.test(perm_df$height ~ perm_df$grp, alternative = \"two.sided\")$statistic\n",
    "    tvalues <- c(tvalues, tval)\n",
    "    pval <- t.test(perm_df$height ~ perm_df$grp, alternative = \"two.sided\")$p.value\n",
    "    pvalues <- c(pvalues, pval)\n",
    "}"
   ]
  },
  {
   "cell_type": "markdown",
   "metadata": {},
   "source": [
    "- Affichez les valeurs résumées et un histogramme des statistiques t:"
   ]
  },
  {
   "cell_type": "code",
   "execution_count": 23,
   "metadata": {},
   "outputs": [
    {
     "data": {
      "text/plain": [
       "     Min.   1st Qu.    Median      Mean   3rd Qu.      Max. \n",
       "-4.084798 -0.681368  0.007453  0.002084  0.672858  3.900867 "
      ]
     },
     "metadata": {},
     "output_type": "display_data"
    }
   ],
   "source": [
    "summary(tvalues)"
   ]
  },
  {
   "cell_type": "code",
   "execution_count": 24,
   "metadata": {},
   "outputs": [
    {
     "data": {
      "image/png": "[encoded data removed]",
      "text/plain": [
       "Plot with title “Histogram of tvalues”"
      ]
     },
     "metadata": {
      "image/png": {
       "height": 420,
       "width": 420
      }
     },
     "output_type": "display_data"
    }
   ],
   "source": [
    "hist(tvalues)"
   ]
  },
  {
   "cell_type": "markdown",
   "metadata": {},
   "source": [
    "- Combien de valeurs de statsitique sont significatives bien que conformes à H0? \n",
    "\n",
    "\n",
    "*__Tip:__ Utilisez la fonction `qnorm()` pour retrouver la valeur seuil d'une loi normale au risque alpha = 5%* "
   ]
  },
  {
   "cell_type": "code",
   "execution_count": 25,
   "metadata": {},
   "outputs": [
    {
     "data": {
      "text/html": [
       "1.95996398454005"
      ],
      "text/latex": [
       "1.95996398454005"
      ],
      "text/markdown": [
       "1.95996398454005"
      ],
      "text/plain": [
       "[1] 1.959964"
      ]
     },
     "metadata": {},
     "output_type": "display_data"
    }
   ],
   "source": [
    "qnorm(0.025, 0, 1, lower.tail=FALSE)"
   ]
  },
  {
   "cell_type": "code",
   "execution_count": 26,
   "metadata": {},
   "outputs": [
    {
     "data": {
      "text/html": [
       "485"
      ],
      "text/latex": [
       "485"
      ],
      "text/markdown": [
       "485"
      ],
      "text/plain": [
       "[1] 485"
      ]
     },
     "metadata": {},
     "output_type": "display_data"
    }
   ],
   "source": [
    "length(which(abs(tvalues)>=1.96))"
   ]
  },
  {
   "cell_type": "markdown",
   "metadata": {},
   "source": [
    "**=> Ce résultat était-il attendu?**"
   ]
  },
  {
   "cell_type": "markdown",
   "metadata": {},
   "source": [
    "- Affichez les valeurs résumées et un histogramme des pvalues:"
   ]
  },
  {
   "cell_type": "code",
   "execution_count": 27,
   "metadata": {},
   "outputs": [
    {
     "data": {
      "text/plain": [
       "     Min.   1st Qu.    Median      Mean   3rd Qu.      Max. \n",
       "0.0000643 0.2507573 0.4986034 0.4995971 0.7513176 0.9999545 "
      ]
     },
     "metadata": {},
     "output_type": "display_data"
    },
    {
     "data": {
      "image/png": "[encoded data removed]",
      "text/plain": [
       "Plot with title “Histogram of pvalues”"
      ]
     },
     "metadata": {
      "image/png": {
       "height": 420,
       "width": 420
      }
     },
     "output_type": "display_data"
    }
   ],
   "source": [
    "summary(pvalues)\n",
    "hist(pvalues)"
   ]
  },
  {
   "cell_type": "markdown",
   "metadata": {},
   "source": [
    "**=> Quelle est la distribution des pvalues sous HO?**"
   ]
  },
  {
   "cell_type": "markdown",
   "metadata": {},
   "source": [
    "<div class=\"alert alert-block alert-warning\"><b>Conclusion:</b>\n",
    "Sous HO:\n",
    "    \n",
    "- on obtient environ une proportion alpha de valeurs significatives -> si 10000 tests ont été effectués, cela fait envriron 500 différences significatives! Il faut donc corriger pour les tests multiples pour éviter un taux de faux positifs trop élevé.\n",
    "- la distribution des pvalues est une distribution uniforme entre 0 et 1.</div>"
   ]
  },
  {
   "cell_type": "markdown",
   "metadata": {},
   "source": [
    "---\n",
    "---"
   ]
  },
  {
   "cell_type": "code",
   "execution_count": 28,
   "metadata": {},
   "outputs": [
    {
     "data": {
      "text/plain": [
       "R version 4.0.2 (2020-06-22)\n",
       "Platform: x86_64-conda_cos6-linux-gnu (64-bit)\n",
       "Running under: CentOS Linux 7 (Core)\n",
       "\n",
       "Matrix products: default\n",
       "BLAS/LAPACK: /shared/ifbstor1/software/miniconda/envs/r-4.0.2/lib/libopenblasp-r0.3.10.so\n",
       "\n",
       "locale:\n",
       " [1] LC_CTYPE=en_US.UTF-8       LC_NUMERIC=C              \n",
       " [3] LC_TIME=en_US.UTF-8        LC_COLLATE=en_US.UTF-8    \n",
       " [5] LC_MONETARY=en_US.UTF-8    LC_MESSAGES=en_US.UTF-8   \n",
       " [7] LC_PAPER=en_US.UTF-8       LC_NAME=C                 \n",
       " [9] LC_ADDRESS=C               LC_TELEPHONE=C            \n",
       "[11] LC_MEASUREMENT=en_US.UTF-8 LC_IDENTIFICATION=C       \n",
       "\n",
       "attached base packages:\n",
       "[1] stats     graphics  grDevices utils     datasets  methods   base     \n",
       "\n",
       "other attached packages:\n",
       "[1] dabestr_0.3.0  magrittr_2.0.1\n",
       "\n",
       "loaded via a namespace (and not attached):\n",
       " [1] Rcpp_1.0.6         plyr_1.8.6         vipor_0.4.5        pillar_1.4.7      \n",
       " [5] compiler_4.0.2     RColorBrewer_1.1-2 forcats_0.5.0      base64enc_0.1-3   \n",
       " [9] tools_4.0.2        boot_1.3-25        digest_0.6.27      uuid_0.1-4        \n",
       "[13] jsonlite_1.7.2     evaluate_0.14      lifecycle_0.2.0    tibble_3.0.5      \n",
       "[17] gtable_0.3.0       pkgconfig_2.0.3    rlang_0.4.10       IRdisplay_0.7.0   \n",
       "[21] DBI_1.1.1          IRkernel_1.1.1     beeswarm_0.2.3     repr_1.1.0        \n",
       "[25] dplyr_1.0.3        stringr_1.4.0      generics_0.1.0     vctrs_0.3.6       \n",
       "[29] cowplot_1.1.1      grid_4.0.2         tidyselect_1.1.0   glue_1.4.2        \n",
       "[33] R6_2.5.0           ggbeeswarm_0.6.0   pbdZMQ_0.3-3.1     farver_2.0.3      \n",
       "[37] tidyr_1.1.2        purrr_0.3.4        ggplot2_3.3.3      scales_1.1.1      \n",
       "[41] ellipsis_0.3.1     htmltools_0.5.1    assertthat_0.2.1   colorspace_2.0-0  \n",
       "[45] labeling_0.4.2     stringi_1.5.3      munsell_0.5.0      crayon_1.3.4      \n",
       "[49] Cairo_1.5-12.2    "
      ]
     },
     "metadata": {},
     "output_type": "display_data"
    }
   ],
   "source": [
    "sessionInfo()"
   ]
  },
  {
   "cell_type": "markdown",
   "metadata": {},
   "source": [
    "---\n",
    "---"
   ]
  },
  {
   "cell_type": "markdown",
   "metadata": {},
   "source": [
    "<div class=\"alert alert-block alert-info\"> \n",
    "    \n",
    "<b><em> About jupyter notebooks:</em></b> <br>\n",
    "\n",
    "- To add a new cell, click on the \"+\" icon in the toolbar above your notebook <br>\n",
    "- You can \"click and drag\" to move a cell up or down <br>\n",
    "- You choose the type of cell in the toolbar above your notebook: <br>\n",
    "    - 'Code' to enter command lines to be executed <br>\n",
    "    - 'Markdown' cells to add text, that can be formatted with some characters <br>\n",
    "- To execute a 'Code' cell, press SHIFT+ENTER or click on the \"play\" icon  <br>\n",
    "- To display a 'Markdown' cell, press SHIFT+ENTER or click on the \"play\" icon  <br>\n",
    "- To modify a 'Markdown'cell, double-click on it <br>\n",
    "<br>    \n",
    "\n",
    "<em>  \n",
    "To make nice html reports with markdown: <a href=\"https://dillinger.io/\" title=\"dillinger.io\">html visualization tool 1</a> or <a href=\"https://stackedit.io/app#\" title=\"stackedit.io\">html visualization tool 2</a>, <a href=\"https://www.tablesgenerator.com/markdown_tables\" title=\"tablesgenerator.com\">to draw nice tables</a>, and the <a href=\"https://medium.com/analytics-vidhya/the-ultimate-markdown-guide-for-jupyter-notebook-d5e5abf728fd\" title=\"Ultimate guide\">Ultimate guide</a>. <br>\n",
    "Further reading on JupyterLab notebooks: <a href=\"https://jupyterlab.readthedocs.io/en/latest/user/notebook.html\" title=\"Jupyter Lab\">Jupyter Lab documentation</a>.<br>   \n",
    "</em>\n",
    "    \n",
    "    \n",
    "</div>   \n",
    "\n",
    "\n"
   ]
  }
 ],
 "metadata": {
  "kernelspec": {
   "display_name": "R 4.0.2",
   "language": "R",
   "name": "r-4.0.2"
  },
  "language_info": {
   "codemirror_mode": "r",
   "file_extension": ".r",
   "mimetype": "text/x-r-source",
   "name": "R",
   "pygments_lexer": "r",
   "version": "4.0.2"
  },
  "toc-showtags": true
 },
 "nbformat": 4,
 "nbformat_minor": 4
}

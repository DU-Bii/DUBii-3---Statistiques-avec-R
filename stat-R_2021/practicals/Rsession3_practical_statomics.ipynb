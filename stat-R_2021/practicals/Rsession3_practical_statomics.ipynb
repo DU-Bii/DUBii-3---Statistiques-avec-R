{
 "cells": [
  {
   "cell_type": "markdown",
   "metadata": {},
   "source": [
    "\n",
    "# DU Bii - module 3: R and stats\n",
    "---\n",
    "## **Session 3: practical on statistics for omics data**\n",
    "*Thursday 4th of March, 2021*\n",
    "*Claire Vandiedonck*\n",
    "\n",
    "teachers: Claire Vandiedonck & Antoine Bridier-Nahmias; helpers: Anne Badel, Clémence Réda, Olivier Sand, Jacques van Helden\n",
    "\n",
    "*Content of this tutorial:*\n",
    "\n",
    "1. Test statisqtique de comparaison de moyennes: impact de la différence entre les moyennes et de la variance\n",
    "2. Effets des tests multiples sur les taux de faux positifs\n",
    "\n",
    "\n",
    "\n",
    "__*=> About this jupyter notebook*__\n",
    "\n",
    "This a jupyter notebook in **R**, meaning that the commands you will enter or run in `Code` cells are directly understood by the server in the R language.\n",
    "<br>You could run the same commands in a Terminal or in RStudio. \n",
    "\n",
    "\n",
    "> In this tutorial, you will run one cell at a time.\n",
    "\n",
    "<mark> Do not hesitate to try other commands by adding other cells.</mark>"
   ]
  },
  {
   "cell_type": "markdown",
   "metadata": {},
   "source": [
    "\n",
    "## 0. Before going further\n",
    "---"
   ]
  },
  {
   "cell_type": "markdown",
   "metadata": {},
   "source": [
    "Check your your working directory, and sit it to another path if needed:"
   ]
  },
  {
   "cell_type": "code",
   "execution_count": null,
   "metadata": {},
   "outputs": [],
   "source": []
  },
  {
   "cell_type": "code",
   "execution_count": null,
   "metadata": {},
   "outputs": [],
   "source": []
  },
  {
   "cell_type": "markdown",
   "metadata": {},
   "source": [
    "## I. Test statistique de comparaison de moyennes: impact de la différence entre les moyennes et de la variance\n",
    "---\n"
   ]
  },
  {
   "cell_type": "markdown",
   "metadata": {},
   "source": [
    "### I.A. Deux populations avec une moyenne différente mais une même variance \n",
    "\n",
    "Nous allons d'abord tirer deux échantillons de deux populations présentant des moyennes différentes et une même variance.\n",
    "\n",
    "A titre d'exemple dans ce parctical nous prendrons la \"taille des humains debout\" comme trait d'intérêt.\n",
    "En France en 2001, les données de l'INSEE indiquaient une taille moyenne de 1.62 pour les femmes et de 1.74 m pour les hommes. Dans l'ensemble de la population, l'écacrt-type était d'environ 7 cm.\n",
    "\n",
    "- Générez 2 échantillons `sample1` et `sample2` de taille 100 issus de la population de femmes et de la population d'hommes avec les paramètres indiqués en supposant que la densité de probabilité de la taille suit une loi normale.\n",
    "\n",
    "*__Tip:__ utiliser la fonction `rnorm()`*"
   ]
  },
  {
   "cell_type": "code",
   "execution_count": null,
   "metadata": {},
   "outputs": [],
   "source": []
  },
  {
   "cell_type": "code",
   "execution_count": null,
   "metadata": {},
   "outputs": [],
   "source": []
  },
  {
   "cell_type": "markdown",
   "metadata": {},
   "source": [
    "- Regardez les valeurs résumées des distributions obersvées et faites un simple boxplot de ces distributions.\n",
    "\n",
    "*__Tip:__ utiliser les fonctions `summary()` et `boxplot`*"
   ]
  },
  {
   "cell_type": "code",
   "execution_count": null,
   "metadata": {},
   "outputs": [],
   "source": []
  },
  {
   "cell_type": "code",
   "execution_count": null,
   "metadata": {},
   "outputs": [],
   "source": []
  },
  {
   "cell_type": "markdown",
   "metadata": {},
   "source": [
    "- Testez la différence des moyennes entre les deux populations d'où sont issus ces échantillons avec un test de Student bilatéral\n",
    "\n",
    "*__Tip:__ utiliser la fonction `t.test()`*"
   ]
  },
  {
   "cell_type": "code",
   "execution_count": null,
   "metadata": {},
   "outputs": [],
   "source": []
  },
  {
   "cell_type": "markdown",
   "metadata": {},
   "source": [
    "- Quelle est la valeur de la p-value?\n",
    "\n",
    "*__Tip:__ utilisez la fonction `str()` pour voir comment extraire cette pvalue du test*"
   ]
  },
  {
   "cell_type": "code",
   "execution_count": null,
   "metadata": {},
   "outputs": [],
   "source": []
  },
  {
   "cell_type": "code",
   "execution_count": null,
   "metadata": {},
   "outputs": [],
   "source": []
  },
  {
   "cell_type": "markdown",
   "metadata": {},
   "source": [
    "Illustrons à présent cette différence à l'aide du paquet dabestR https://github.com/ACCLAB/dabestr"
   ]
  },
  {
   "cell_type": "markdown",
   "metadata": {},
   "source": [
    "- Installez le paquet dabestr s'il n'est pas déjà installé et chargez-le dans votre session R.\n",
    "\n",
    "*__Tip:__ utilisez la fonction `requireNamespace)`, `install.packages()`, `library()` et `sessionInfo()`*"
   ]
  },
  {
   "cell_type": "code",
   "execution_count": null,
   "metadata": {},
   "outputs": [],
   "source": []
  },
  {
   "cell_type": "markdown",
   "metadata": {},
   "source": [
    "- Consultez la page github de dabestr voire sa vignette et faites une représentation graphique dite ***Gardner-Altman estimation plot*** des distributions qui affiche l'IC de la moyenne en prenant les hommes comme groupe de référence.\n",
    "\n",
    "Pour cela vous devez d'abord générer un dataframe:\n",
    "\n",
    "    - Rassemblez les données des deux échantillons dans un dataframe avec deux colonnes `height` et `grp` pour le groupe.\n",
    "\n",
    "*__Tip:__ utilisez la fonction `data.frame()` sur un vecteur concanténant les taille des deux échantillons avec la fonction `c()` et un vecteur répétant les valeurs 1 et 2 100 fois dans le bon ordre avec la fonction `rep()` et son argument `each=`*"
   ]
  },
  {
   "cell_type": "code",
   "execution_count": null,
   "metadata": {},
   "outputs": [],
   "source": []
  },
  {
   "cell_type": "markdown",
   "metadata": {},
   "source": [
    "    - Affichez les premières, dernières lignes du dataframe et sa structure. Comptez également le nombre d'obersvations appartenant au groupe 1 ou 2.\n",
    "\n",
    "*__Tip:__ utilisez les fonctions `head()` , `tail()`, `str()` et `table()`.*"
   ]
  },
  {
   "cell_type": "code",
   "execution_count": null,
   "metadata": {},
   "outputs": [],
   "source": []
  },
  {
   "cell_type": "code",
   "execution_count": null,
   "metadata": {},
   "outputs": [],
   "source": []
  },
  {
   "cell_type": "code",
   "execution_count": null,
   "metadata": {},
   "outputs": [],
   "source": []
  },
  {
   "cell_type": "code",
   "execution_count": null,
   "metadata": {},
   "outputs": [],
   "source": []
  },
  {
   "cell_type": "markdown",
   "metadata": {},
   "source": [
    "    - Faites de Grander-Latman estimation plot:\n",
    "\n",
    "*__Tip:__ utilisez les fonctions `dabest()` , `unpaired_mean_diff()`, et `plot()`.*"
   ]
  },
  {
   "cell_type": "code",
   "execution_count": null,
   "metadata": {},
   "outputs": [],
   "source": []
  },
  {
   "cell_type": "markdown",
   "metadata": {},
   "source": [
    "### I.B. Impact de la taille des échantillons, de la différence des moyennes ou de la variance\n",
    "\n",
    "Nous allons à présent étudier l'impact de la différence entre les moyennes des populations de départ ou celui de la variance sur la puissance de détecter une différence.\n",
    "\n",
    "- Pour jouer sur ces différents paramètres, écrivez une fonction qui prend comme argument la taille des échantillons, la moyenne et la variance de chacune des populations, et qui renvoie la statistique t et la pvalue du test de Student."
   ]
  },
  {
   "cell_type": "code",
   "execution_count": null,
   "metadata": {},
   "outputs": [],
   "source": []
  },
  {
   "cell_type": "markdown",
   "metadata": {},
   "source": [
    "- Faites le tests en prenant à présent les écarts types différents chez les hommes et les femmes qui sont respectivement de 7.1 cm et 6.5 cm dans la population Française en 2001."
   ]
  },
  {
   "cell_type": "code",
   "execution_count": null,
   "metadata": {},
   "outputs": [],
   "source": []
  },
  {
   "cell_type": "markdown",
   "metadata": {},
   "source": [
    "- Refaites le test en réduisant les effectifs à 30 pour cahque échantillon."
   ]
  },
  {
   "cell_type": "code",
   "execution_count": null,
   "metadata": {},
   "outputs": [],
   "source": []
  },
  {
   "cell_type": "markdown",
   "metadata": {},
   "source": [
    "**=> Comment a varié la significativité?**"
   ]
  },
  {
   "cell_type": "markdown",
   "metadata": {},
   "source": [
    "Les paramètres de la distribution de la taille des humains varient aussi entre les populations dans le monde.\n",
    "\n",
    "- Refaites le test avec ces effectifs de 30, en gardant la même différence entre les moyennes mais en augmentant la variance à 25 pour chaque population."
   ]
  },
  {
   "cell_type": "code",
   "execution_count": null,
   "metadata": {},
   "outputs": [],
   "source": []
  },
  {
   "cell_type": "markdown",
   "metadata": {},
   "source": [
    "**=> La différence, même importante entre les moyennes des populations, est-elle encore détectable?**"
   ]
  },
  {
   "cell_type": "markdown",
   "metadata": {},
   "source": [
    "- Refaites le test avec des populations présentant une petite différence entre les moyennes  (3 cm avec par exemple 160 cm pour les femmes et 163 cm pour les hommes) et des variances faibles (3 cm)"
   ]
  },
  {
   "cell_type": "code",
   "execution_count": null,
   "metadata": {},
   "outputs": [],
   "source": []
  },
  {
   "cell_type": "markdown",
   "metadata": {},
   "source": [
    "**=> Détectez-vous quand même une différence statistiquement significative?**"
   ]
  },
  {
   "cell_type": "markdown",
   "metadata": {},
   "source": [
    "<div class=\"alert alert-block alert-warning\"><b>Conclusion:</b>\n",
    "La puissance du test augmente avec:\n",
    "    \n",
    "- la taille des échantillons\n",
    "- la différence entre les moyennes des populations\n",
    "- une petite variance </div>"
   ]
  },
  {
   "cell_type": "markdown",
   "metadata": {},
   "source": [
    "## II. Effet des tests multiples sur le taux de faux positifs\n",
    "---"
   ]
  },
  {
   "cell_type": "markdown",
   "metadata": {},
   "source": [
    "Dans les jeux de données omiques, on effectue autant de tests que de \"features\".\n",
    "\n",
    "Nous n'allons pas générer dans ce practical de multiples features mais nous allons prendre notre trait de la taille et tester par simulation l'impact des tests multiples sur les faux positifs."
   ]
  },
  {
   "cell_type": "markdown",
   "metadata": {},
   "source": [
    "Nous repartons du dataframe généré ci-dessus."
   ]
  },
  {
   "cell_type": "markdown",
   "metadata": {},
   "source": [
    "- Nous allons simuler 10000 échantillons sous une hypothèse nulle où le groupe ne modifie pas les moyennes. Pour ce faire, générez 10000 permutations de Monte-Carlo en tirant au hasard les statuts pour les groupes. Et récupérez les valeurs de tests `tvalues` et `pvalues` .\n",
    "\n",
    "*__Tip:__ Utilisez la fonction `for()` pour faire répéter votre code 1000 fois. Dans la boucle, générez un vecteur avec les valeurs perumutées pour le groupe et effectuez le test pour récupérer les valeurs p et de statsitique* "
   ]
  },
  {
   "cell_type": "code",
   "execution_count": null,
   "metadata": {},
   "outputs": [],
   "source": []
  },
  {
   "cell_type": "markdown",
   "metadata": {},
   "source": [
    "- Affichez les valeurs résumées et un histogramme des statistiques t:"
   ]
  },
  {
   "cell_type": "code",
   "execution_count": null,
   "metadata": {},
   "outputs": [],
   "source": []
  },
  {
   "cell_type": "code",
   "execution_count": null,
   "metadata": {},
   "outputs": [],
   "source": []
  },
  {
   "cell_type": "markdown",
   "metadata": {},
   "source": [
    "- Combien de valeurs de statsitique sont significatives bien que conformes à H0? \n",
    "\n",
    "\n",
    "*__Tip:__ Utilisez la fonction `qnorm()` pour retrouver la valeur seuil d'une loi normale au risque alpha = 5%* "
   ]
  },
  {
   "cell_type": "code",
   "execution_count": null,
   "metadata": {},
   "outputs": [],
   "source": []
  },
  {
   "cell_type": "code",
   "execution_count": null,
   "metadata": {},
   "outputs": [],
   "source": []
  },
  {
   "cell_type": "markdown",
   "metadata": {},
   "source": [
    "**=> Ce résultat était-il attendu?**"
   ]
  },
  {
   "cell_type": "markdown",
   "metadata": {},
   "source": [
    "- Affichez les valeurs résumées et un histogramme des pvalues:"
   ]
  },
  {
   "cell_type": "code",
   "execution_count": null,
   "metadata": {},
   "outputs": [],
   "source": []
  },
  {
   "cell_type": "markdown",
   "metadata": {},
   "source": [
    "**=> Quelle est la distribution des pvalues sous HO?**"
   ]
  },
  {
   "cell_type": "markdown",
   "metadata": {},
   "source": [
    "<div class=\"alert alert-block alert-warning\"><b>Conclusion:</b>\n",
    "Sous HO:\n",
    "    \n",
    "- on obtient environ une proportion alpha de valeurs significatives -> si 10000 tests ont été effectués, cela fait envriron 500 différences significatives! Il faut donc corriger pour les tests multiples pour éviter un taux de faux positifs trop élevé.\n",
    "- la distribution des pvalues est une distribution uniforme entre 0 et 1.</div>"
   ]
  },
  {
   "cell_type": "markdown",
   "metadata": {},
   "source": [
    "---\n",
    "---"
   ]
  },
  {
   "cell_type": "code",
   "execution_count": null,
   "metadata": {},
   "outputs": [],
   "source": [
    "sessionInfo()"
   ]
  },
  {
   "cell_type": "markdown",
   "metadata": {},
   "source": [
    "---\n",
    "---"
   ]
  },
  {
   "cell_type": "markdown",
   "metadata": {},
   "source": [
    "<div class=\"alert alert-block alert-info\"> \n",
    "    \n",
    "<b><em> About jupyter notebooks:</em></b> <br>\n",
    "\n",
    "- To add a new cell, click on the \"+\" icon in the toolbar above your notebook <br>\n",
    "- You can \"click and drag\" to move a cell up or down <br>\n",
    "- You choose the type of cell in the toolbar above your notebook: <br>\n",
    "    - 'Code' to enter command lines to be executed <br>\n",
    "    - 'Markdown' cells to add text, that can be formatted with some characters <br>\n",
    "- To execute a 'Code' cell, press SHIFT+ENTER or click on the \"play\" icon  <br>\n",
    "- To display a 'Markdown' cell, press SHIFT+ENTER or click on the \"play\" icon  <br>\n",
    "- To modify a 'Markdown'cell, double-click on it <br>\n",
    "<br>    \n",
    "\n",
    "<em>  \n",
    "To make nice html reports with markdown: <a href=\"https://dillinger.io/\" title=\"dillinger.io\">html visualization tool 1</a> or <a href=\"https://stackedit.io/app#\" title=\"stackedit.io\">html visualization tool 2</a>, <a href=\"https://www.tablesgenerator.com/markdown_tables\" title=\"tablesgenerator.com\">to draw nice tables</a>, and the <a href=\"https://medium.com/analytics-vidhya/the-ultimate-markdown-guide-for-jupyter-notebook-d5e5abf728fd\" title=\"Ultimate guide\">Ultimate guide</a>. <br>\n",
    "Further reading on JupyterLab notebooks: <a href=\"https://jupyterlab.readthedocs.io/en/latest/user/notebook.html\" title=\"Jupyter Lab\">Jupyter Lab documentation</a>.<br>   \n",
    "</em>\n",
    "    \n",
    "    \n",
    "</div>   \n",
    "\n",
    "\n"
   ]
  }
 ],
 "metadata": {
  "kernelspec": {
   "display_name": "R 4.0.2",
   "language": "R",
   "name": "r-4.0.2"
  },
  "language_info": {
   "codemirror_mode": "r",
   "file_extension": ".r",
   "mimetype": "text/x-r-source",
   "name": "R",
   "pygments_lexer": "r",
   "version": "4.0.2"
  },
  "toc-showtags": true
 },
 "nbformat": 4,
 "nbformat_minor": 4
}
